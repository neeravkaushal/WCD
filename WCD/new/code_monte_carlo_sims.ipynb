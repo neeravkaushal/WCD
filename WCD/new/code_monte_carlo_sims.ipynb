{
 "cells": [
  {
   "cell_type": "code",
   "execution_count": 1,
   "metadata": {},
   "outputs": [],
   "source": [
    "import matplotlib.pyplot as plt\n",
    "from numpy import sin, cos, sqrt, pi, linspace, arange, deg2rad, rad2deg, array\n",
    "from scipy.spatial import distance\n",
    "import numpy as np\n",
    "import random\n",
    "\n",
    "def sec(x):\n",
    "    return 1/cos(x)\n",
    "def tan(x):\n",
    "    return sin(x)/cos(x)\n",
    "\n",
    "c  = 299792458/1.33\n",
    "H  = 4.5\n",
    "R  = 3.65\n",
    "v  = 1.33 * c\n",
    "\n",
    "c1 = (0, 0)  #------------------------------------ Central    PMT number 1 \n",
    "c2 = (1.85*cos(2*pi/3) , 1.85*sin(2*pi/3)) #------ Non-Radial PMT number 2\n",
    "c3 = (1.85*cos(4*pi/3) , 1.85*sin(4*pi/3)) #------ Non-Radial PMT number 3\n",
    "c4 = (1.85*cos(0     ) , 1.85*sin(0     )) #------ Radial     PMT number 4\n",
    "\n",
    "times  = linspace(1e-9, 1e-7, 100000, endpoint=True) #------------ time range"
   ]
  },
  {
   "cell_type": "code",
   "execution_count": 3,
   "metadata": {},
   "outputs": [
    {
     "name": "stdout",
     "output_type": "stream",
     "text": [
      "Total Particles: 100000000 <======> Particles entered: 33815432 <======> Particles RIDed: 30797632 <======> Probability: 0.9107567219605534\n"
     ]
    }
   ],
   "source": [
    "all_cases = 100000000\n",
    "cases  = 0\n",
    "counts = 0\n",
    "\n",
    "for i in range(all_cases):\n",
    "\n",
    "    h     = random.uniform(0, 4*H) #1.8292+H)\n",
    "    theta = deg2rad(random.uniform(90, 180))\n",
    "    phi   = deg2rad(random.uniform( 0, 360))\n",
    "    theta2    = theta\n",
    "    del theta\n",
    "    theta     = pi-theta2\n",
    "    if h <= H:\n",
    "        x1    = random.uniform(-R, R)\n",
    "        y1    = sqrt(R**2 - x1**2)\n",
    "    else:\n",
    "        h     = H\n",
    "        x1    = random.uniform(-R, R)\n",
    "        ymax  = sqrt(R**2 - x1**2)\n",
    "        y1    = random.uniform(-ymax, ymax)\n",
    "\n",
    "    x2 = x1 + h * tan(theta) * cos(phi)\n",
    "    y2 = y1 + h * tan(theta) * sin(phi)\n",
    "    cp = (x2 , y2)\n",
    "\n",
    "    if x2**2 + y2**2 <= R**2:\n",
    "\n",
    "        cases +=1\n",
    "        d1 = distance.euclidean(cp,c1)\n",
    "        d2 = distance.euclidean(cp,c2)\n",
    "        d3 = distance.euclidean(cp,c3)\n",
    "        d4 = distance.euclidean(cp,c4)\n",
    "        Ls = [d1,d2,d3,d4]\n",
    "\n",
    "        for L in Ls:\n",
    "            num_zc = -sqrt(-c**4 * L**2 * cos(theta)**2 + c**2 * L**2 * v**2 * cos(theta)**2) - c**2*L*sin(theta) + L*v**2*sin(theta)\n",
    "            den    = (c**2-v**2)\n",
    "            zc     = (num_zc/den) * cos(theta)\n",
    "            if zc > 0.0:\n",
    "                counts += 1\n",
    "                break\n",
    "\n",
    "\n",
    "print('Total Particles:', all_cases, '<======>', 'Particles entered:', cases, '<======>', 'Particles RIDed:', counts, '<======>','Probability:', counts/(cases))"
   ]
  },
  {
   "cell_type": "code",
   "execution_count": null,
   "metadata": {},
   "outputs": [],
   "source": []
  }
 ],
 "metadata": {
  "kernelspec": {
   "display_name": "Python 3",
   "language": "python",
   "name": "python3"
  },
  "language_info": {
   "codemirror_mode": {
    "name": "ipython",
    "version": 3
   },
   "file_extension": ".py",
   "mimetype": "text/x-python",
   "name": "python",
   "nbconvert_exporter": "python",
   "pygments_lexer": "ipython3",
   "version": "3.7.4"
  }
 },
 "nbformat": 4,
 "nbformat_minor": 4
}
