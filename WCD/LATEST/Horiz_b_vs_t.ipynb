{
 "cells": [
  {
   "cell_type": "markdown",
   "metadata": {},
   "source": [
    "## Import Libraries"
   ]
  },
  {
   "cell_type": "code",
   "execution_count": 1,
   "metadata": {},
   "outputs": [],
   "source": [
    "import matplotlib.pyplot as plt\n",
    "from numpy import sin, cos, sqrt, pi, linspace, arange, deg2rad, rad2deg, array, arcsin, arccos,sort, argsort, argwhere, argmin, argmax, interp, concatenate, zeros\n",
    "from scipy.spatial import distance\n",
    "import warnings\n",
    "from numpy import linalg as LA\n",
    "warnings.simplefilter('ignore')\n",
    "\n",
    "def sec(x):\n",
    "    return 1/cos(x)\n",
    "def tan(x):\n",
    "    return sin(x)/cos(x)"
   ]
  },
  {
   "cell_type": "markdown",
   "metadata": {},
   "source": [
    "## Initialize Parameters "
   ]
  },
  {
   "cell_type": "code",
   "execution_count": 2,
   "metadata": {},
   "outputs": [
    {
     "name": "stdout",
     "output_type": "stream",
     "text": [
      "6.270604132263064\n",
      "A :  [0.65     3.591657 1.3     ]\n",
      "B :  [ 2.85       -2.28035085  1.3       ]\n"
     ]
    }
   ],
   "source": [
    "n      = 1.33 #-------------------------------------------- Refractive index of medium\n",
    "c      = 299792458/n #------------------------------------- Speed of light in medium\n",
    "R      = 7.3/2 #------------------------------------------- Radius of tank\n",
    "v      = n * c #------------------------------------------- Particle Speed\n",
    "times  = linspace(7e-11,1e-7,200000)\n",
    "\n",
    "c1       = (0, 0, 0)  #------------------------------------ Central    PMT number 1 \n",
    "c2       = (1.85*cos(2*pi/3) , 1.85*sin(2*pi/3), 0) #------ Non-Radial PMT number 2\n",
    "c3       = (1.85*cos(4*pi/3) , 1.85*sin(4*pi/3), 0) #------ Non-Radial PMT number 3\n",
    "c4       = (1.85*cos(0     ) , 1.85*sin(0     ), 0) #------ Radial     PMT number 4\n",
    "xA,xB,h  = R-3.0, -(R-6.5), 1.3 #-------------------------- PARAM\n",
    "\n",
    "A   = array( [xA,  sqrt(R**2-xA**2), h] ) #---------------- Entry Point of muon\n",
    "B   = array( [xB,  -sqrt(R**2-xB**2), h] ) #---------------- Exit point of muon\n",
    "AB  = B-A #------------------------------------------------ Displacement vector of muon\n",
    "nAB = LA.norm(AB) #---------------------------------------- Path length traveled by muon\n",
    "print(nAB)\n",
    "den = c*c - v*v\n",
    "print('A : ', A)\n",
    "print('B : ', B)"
   ]
  },
  {
   "cell_type": "code",
   "execution_count": 3,
   "metadata": {},
   "outputs": [],
   "source": [
    "def entry_brightness(L,c,v,alpha,den):\n",
    "    x  = 0\n",
    "    tt = L/c\n",
    "    bigterm = sqrt( v*v*( -L*L*v*v + c*c*L*L + c*c*tt*tt*v*v - 2*c*c*L*tt*v*cos(alpha) + L*L*v*v*cos(alpha)**2) )\n",
    "    xp      = ( c*c*tt*v-L*v*v*cos(alpha) + bigterm ) / den\n",
    "    vp      = ( ( c*c*v) + ( (c*c*v**3*(tt*v-L*cos(alpha)))  / bigterm ) ) / den\n",
    "    kp      = sqrt( L*L + xp*xp - 2*L*xp*cos(alpha) )\n",
    "    betap   = pi - (  arccos( (xp*xp + kp*kp - L*L) / (2*xp*kp) )  )\n",
    "    vtp     = vp*sin(betap)\n",
    "    omegap  = vtp / kp\n",
    "    bp      = abs( omegap / (kp**2) )\n",
    "    return bp\n",
    "\n",
    "global nls\n",
    "nls='--'\n",
    "\n",
    "def plus_b_vs_t(tp,bp,color,mylabel,xc):\n",
    "    plt.plot(tp, bp, c=color, ls='-', label=mylabel, lw=2.5)\n",
    "    plt.xlabel(r'time (ns)', fontsize=18)\n",
    "    plt.ylabel(r'brightness ($b/b_{entry}$) '        , fontsize=18).set_rotation(90)\n",
    "    plt.tick_params(axis='both', direction='in', labelsize=18)        \n",
    "    plt.yscale('log')\n",
    "    #plt.xlim(-0.1,6.3)\n",
    "def minus_b_vs_t(tm,bm,color,mylabel,xc):\n",
    "    plt.plot(tm, bm, c=color, ls=nls, label=mylabel, lw=2.5)\n",
    "    plt.xlabel(r'time (ns)', fontsize=18)\n",
    "    plt.ylabel(r'brightness ($b/b_{entry}$) '                   , fontsize=18).set_rotation(90)\n",
    "    plt.tick_params(axis='both', direction='in', labelsize=18)        \n",
    "    plt.yscale('log')\n",
    "    #plt.xlim(-0.1,6.3)\n",
    "def both_b_vs_t(tp,bp,tm,bm,color,mylabel,xc):\n",
    "    plt.plot(tp, bp, c=color, ls='-', label=mylabel, lw=2.5)\n",
    "    plt.plot(tm, bm, c=color, ls=nls               , lw=2.5)\n",
    "    plt.xlabel(r'time (ns)', fontsize=18)\n",
    "    plt.ylabel(r'brightness ($b/b_{entry}$) '                   , fontsize=18).set_rotation(90)\n",
    "    plt.tick_params(axis='both', direction='in', labelsize=18)        \n",
    "    plt.yscale('log')\n",
    "    #plt.xlim(-0.1,6.3)"
   ]
  },
  {
   "cell_type": "code",
   "execution_count": 5,
   "metadata": {},
   "outputs": [
    {
     "name": "stdout",
     "output_type": "stream",
     "text": [
      "Using matplotlib backend: Qt5Agg\n",
      "==============================================\n",
      "Processing detector 1\n",
      "Critical distance (from entry point) : 0.5391523328682735 m\n",
      "3.01667669200846\t-4.3236682894734315\t3.01667669200846\n",
      "6.012517704007521\t-19.918370288725967\t6.012517704007521\n",
      "9.00835871600658\t-39.8049718586298\t9.008358716006578\n",
      "12.00419972800564\t-60.47911370134385\t12.004199728005633\n",
      "15.0000407400047\t-81.38564743442359\t15.000040740004696\n",
      "17.995881752003758\t-102.3891184011513\t17.995881752003772\n",
      "20.991722764002816\t-123.44184171244386\t20.99172276400283\n",
      "23.98756377600188\t-144.5229205987139\t23.987563776001874\n",
      "26.98340478800094\t-165.62179111723273\t26.983404788000925\n",
      "29.979245799999998\t-186.7325486949348\t29.979245799999987\n",
      "Both images moving. Processing...\n"
     ]
    },
    {
     "ename": "NameError",
     "evalue": "name 'both_b_vs_t' is not defined",
     "output_type": "error",
     "traceback": [
      "\u001b[0;31m---------------------------------------------------------------------------\u001b[0m",
      "\u001b[0;31mNameError\u001b[0m                                 Traceback (most recent call last)",
      "\u001b[0;32m<ipython-input-5-c235fbd7923a>\u001b[0m in \u001b[0;36m<module>\u001b[0;34m\u001b[0m\n\u001b[1;32m     94\u001b[0m                     \u001b[0mboth_b_vs_t\u001b[0m\u001b[0;34m(\u001b[0m\u001b[0mtp\u001b[0m\u001b[0;34m=\u001b[0m\u001b[0mTTp\u001b[0m\u001b[0;34m,\u001b[0m\u001b[0mbp\u001b[0m\u001b[0;34m=\u001b[0m\u001b[0mBP\u001b[0m\u001b[0;34m,\u001b[0m\u001b[0mtm\u001b[0m\u001b[0;34m=\u001b[0m\u001b[0mTTm\u001b[0m\u001b[0;34m,\u001b[0m\u001b[0mbm\u001b[0m\u001b[0;34m=\u001b[0m\u001b[0mBM\u001b[0m\u001b[0;34m,\u001b[0m\u001b[0mcolor\u001b[0m\u001b[0;34m=\u001b[0m\u001b[0;34m'g'\u001b[0m\u001b[0;34m,\u001b[0m\u001b[0mmylabel\u001b[0m\u001b[0;34m=\u001b[0m\u001b[0mmylabel\u001b[0m\u001b[0;34m,\u001b[0m\u001b[0mxc\u001b[0m\u001b[0;34m=\u001b[0m\u001b[0mxc\u001b[0m\u001b[0;34m)\u001b[0m\u001b[0;34m\u001b[0m\u001b[0;34m\u001b[0m\u001b[0m\n\u001b[1;32m     95\u001b[0m                 \u001b[0;32melse\u001b[0m\u001b[0;34m:\u001b[0m\u001b[0;34m\u001b[0m\u001b[0;34m\u001b[0m\u001b[0m\n\u001b[0;32m---> 96\u001b[0;31m                     \u001b[0mboth_b_vs_t\u001b[0m\u001b[0;34m(\u001b[0m\u001b[0mtp\u001b[0m\u001b[0;34m=\u001b[0m\u001b[0mTTp\u001b[0m\u001b[0;34m,\u001b[0m\u001b[0mbp\u001b[0m\u001b[0;34m=\u001b[0m\u001b[0mBP\u001b[0m\u001b[0;34m,\u001b[0m\u001b[0mtm\u001b[0m\u001b[0;34m=\u001b[0m\u001b[0mTTm\u001b[0m\u001b[0;34m,\u001b[0m\u001b[0mbm\u001b[0m\u001b[0;34m=\u001b[0m\u001b[0mBM\u001b[0m\u001b[0;34m,\u001b[0m\u001b[0mcolor\u001b[0m\u001b[0;34m=\u001b[0m\u001b[0mcolor\u001b[0m\u001b[0;34m,\u001b[0m\u001b[0mmylabel\u001b[0m\u001b[0;34m=\u001b[0m\u001b[0mmylabel\u001b[0m\u001b[0;34m,\u001b[0m\u001b[0mxc\u001b[0m\u001b[0;34m=\u001b[0m\u001b[0mxc\u001b[0m\u001b[0;34m)\u001b[0m\u001b[0;34m\u001b[0m\u001b[0;34m\u001b[0m\u001b[0m\n\u001b[0m\u001b[1;32m     97\u001b[0m \u001b[0mplt\u001b[0m\u001b[0;34m.\u001b[0m\u001b[0maxhline\u001b[0m\u001b[0;34m(\u001b[0m\u001b[0;36m1\u001b[0m\u001b[0;34m,\u001b[0m\u001b[0mc\u001b[0m\u001b[0;34m=\u001b[0m\u001b[0;34m'k'\u001b[0m\u001b[0;34m,\u001b[0m\u001b[0mls\u001b[0m\u001b[0;34m=\u001b[0m\u001b[0;34m':'\u001b[0m\u001b[0;34m)\u001b[0m\u001b[0;34m\u001b[0m\u001b[0;34m\u001b[0m\u001b[0m\n\u001b[1;32m     98\u001b[0m \u001b[0mplt\u001b[0m\u001b[0;34m.\u001b[0m\u001b[0maxvline\u001b[0m\u001b[0;34m(\u001b[0m\u001b[0;36m0\u001b[0m\u001b[0;34m,\u001b[0m\u001b[0mc\u001b[0m\u001b[0;34m=\u001b[0m\u001b[0;34m'k'\u001b[0m\u001b[0;34m,\u001b[0m\u001b[0mls\u001b[0m\u001b[0;34m=\u001b[0m\u001b[0;34m':'\u001b[0m\u001b[0;34m)\u001b[0m\u001b[0;34m\u001b[0m\u001b[0;34m\u001b[0m\u001b[0m\n",
      "\u001b[0;31mNameError\u001b[0m: name 'both_b_vs_t' is not defined"
     ]
    }
   ],
   "source": [
    "%matplotlib\n",
    "plt.figure()\n",
    "\n",
    "plotme    = 'b vs t'\n",
    "\n",
    "detector_coordinates = [c1,c2,c3,c4]\n",
    "colors               = ['k','r','b','g']\n",
    "detectors            = [1,2,3,4]\n",
    "labels               = ['Central Detector', \"Detector 2\",'Detector 3','Detector 4']\n",
    "\n",
    "for D, color, detector, mylabel in zip(detector_coordinates, colors, detectors, labels):\n",
    "    \n",
    "    print(\"==============================================\")\n",
    "    print(\"Processing detector %s\"%detector)\n",
    "    \n",
    "    AD    = D - A\n",
    "    BD    = D - B\n",
    "    L     = LA.norm(AD)\n",
    "    alpha = arccos((sum(AD*AB))/(L*nAB)) # OR use alpha1 = arccos( (L*L+x*x-k*k)/(2*x*L) )\n",
    "    \n",
    "    xc    = L*cos(alpha) - (c*L*sin(alpha))/sqrt(-den)    \n",
    "    print('Critical distance (from entry point) : {} m'.format(xc))\n",
    "\n",
    "    T,XP,XM,BP,BM,BETAP,BETAM=[],[],[],[],[],[],[]\n",
    "    \n",
    "    for iii,t in enumerate(times):\n",
    "\n",
    "        x      = v*t\n",
    "        ratio  = x/nAB\n",
    "        X      = array([ (1-ratio)*A[0] + ratio*B[0] , (1-ratio)*A[1] + ratio*B[1] , h   ])\n",
    "        AX,DX  = X - A, X-D\n",
    "        k      = LA.norm(DX)\n",
    "        t1,t2  = t, k/c\n",
    "        tt     = t1 + t2\n",
    "        xp     = (c*c*tt*v-L*v*v*cos(alpha)+sqrt(v*v*( -L*L*v*v + c*c*L*L + c*c*tt*tt*v*v - 2*c*c*L*tt*v*cos(alpha) + L*L*v*v*cos(alpha)**2))) / den\n",
    "        xm     = (c*c*tt*v-L*v*v*cos(alpha)-sqrt(v*v*( -L*L*v*v + c*c*L*L + c*c*tt*tt*v*v - 2*c*c*L*tt*v*cos(alpha) + L*L*v*v*cos(alpha)**2))) / den\n",
    "        vp     = ( (c*c*v) + ( (c*c*v**3*(tt*v-L*cos(alpha)))  / (sqrt( v*v*(-L*L*v*v + c*c*(L*L+tt*tt*v*v) - 2*c*c*L*tt*v*cos(alpha) + L*L*v*v*cos(alpha)**2) )) )  ) / den\n",
    "        vm     = ((-c*c*v) + ( (c*c*v**3*(tt*v-L*cos(alpha)))  / (sqrt( v*v*(-L*L*v*v + c*c*(L*L+tt*tt*v*v) - 2*c*c*L*tt*v*cos(alpha) + L*L*v*v*cos(alpha)**2) )) )  ) / den \n",
    "        kp     = sqrt( L*L + xp*xp - 2*L*xp*cos(alpha) )\n",
    "        km     = sqrt( L*L + xm *xm  - 2*L *xm*cos(alpha) )\n",
    "        betap  = pi - arccos( (xp*xp + kp*kp - L*L) / (2*xp*kp) )  \n",
    "        betam  = pi - arccos( (xm *xm  + km *km  - L*L) / (2*xm *km ) )  \n",
    "        vtp    = vp*sin(betap)\n",
    "        vtm    = vm *sin(betam )\n",
    "        omegap = vtp / kp\n",
    "        omegam = vtm  / km\n",
    "        bp,bm  = abs(omegap/(kp**2)), abs(omegam/(km **2))\n",
    "        if ((iii+1)%20000==0):\n",
    "            print(x,xp,xm,sep='\\t')\n",
    "        XP.append(xp); XM.append(xm); BP.append(bp); BM.append(bm); BETAP.append(rad2deg(betap)); BETAM.append(rad2deg(betam)); T.append(tt)\n",
    "\n",
    "    XP, XM, BP, BM, T, BETAP, BETAM = array(XP), array(XM), array(BP), array(BM), array(T), array(BETAP), array(BETAM)\n",
    "    Tn  = T * 1e+9 ; TT  = Tn #(Tn-Tn.min())\n",
    "\n",
    "    cond  = ( ((XP>=0) & (XP<=nAB)) | ((XM>=0) & (XM<=nAB)))\n",
    "    TT    = TT[cond] ; BP = BP[cond] ; BM = BM[cond] ; XP = XP[cond]\n",
    "    XM    = XM[cond] ; BETAP=BETAP[cond] ; BETAM=BETAM[cond]\n",
    "    \n",
    "    conp = [(XP>=0) & (XP<=nAB)]\n",
    "    conm  = [(XM >=0) & (XM <=nAB)]\n",
    "    pluslen = len (XP[conp])\n",
    "    minuslen  = len (XM [conm ])\n",
    "    \n",
    "    if detector==1:\n",
    "        Bnorm = 1#entry_brightness(L,c,v,alpha,den)\n",
    "        \n",
    "    if pluslen == 0:\n",
    "        if minuslen == 0:\n",
    "            print(\"Images outside tank. Skipping...\")\n",
    "        else:\n",
    "            print('Only image moving towards exit. Processing...')\n",
    "            TT,XM,BM,BETAM = TT[conm], XM[conm], BM[conm]/Bnorm, BETAM[conm]\n",
    "            if plotme=='b vs x':\n",
    "                minus_b_vs_x(xm=XM,bm=BM,color=color,mylabel=mylabel,xc=xc)\n",
    "            elif plotme=='b vs t':\n",
    "                minus_b_vs_t(tm=TT,bm=BM,color=color,mylabel=mylabel,xc=xc)\n",
    "    elif pluslen != 0:\n",
    "        if minuslen == 0:\n",
    "            print('Only image moving towards entry. Processing...')\n",
    "            TT,XP,BP,BETAP = TT[conp], XP[conp], BP[conp]/Bnorm, BETAP[conp]\n",
    "            if plotme=='b vs x':\n",
    "                plus_b_vs_x(xp=XP,bp=BP,color=color,mylabel=mylabel,xc=xc)\n",
    "            elif plotme=='b vs t':\n",
    "                plus_b_vs_t(tp=TT,bp=BP,color=color,mylabel=mylabel,xc=xc)\n",
    "\n",
    "        else:\n",
    "            print('Both images moving. Processing...')\n",
    "            TTm, XM, BM, BETAM = TT[conm], XM[conm], BM[conm]/Bnorm, BETAM[conm]\n",
    "            TTp, XP, BP, BETAP = TT[conp], XP[conp], BP[conp]/Bnorm, BETAP[conp]\n",
    "            if plotme=='b vs x':\n",
    "                both_b_vs_x(xp=XP,bp=BP,xm=XM,bm=BM,color=color,mylabel=mylabel,xc=xc)\n",
    "            elif plotme=='b vs t':\n",
    "                if detector==4:\n",
    "                    both_b_vs_t(tp=TTp,bp=BP,tm=TTm,bm=BM,color='g',mylabel=mylabel,xc=xc)\n",
    "                else:\n",
    "                    both_b_vs_t(tp=TTp,bp=BP,tm=TTm,bm=BM,color=color,mylabel=mylabel,xc=xc)\n",
    "plt.axhline(1,c='k',ls=':')\n",
    "plt.axvline(0,c='k',ls=':')\n",
    "#plt.xlim(-0.05,6.3)\n",
    "plt.legend(loc='upper right', prop={'size': 14})\n",
    "plt.show()"
   ]
  },
  {
   "cell_type": "code",
   "execution_count": 5,
   "metadata": {},
   "outputs": [],
   "source": [
    "plt.plot(TTp,BP)\n",
    "plt.plot(TTm,BM)\n",
    "plt.yscale('log')"
   ]
  },
  {
   "cell_type": "code",
   "execution_count": 6,
   "metadata": {},
   "outputs": [
    {
     "data": {
      "text/plain": [
       "array([ 1.297725  ,  1.2975969 ,  1.29746881, ..., 16.92819226,\n",
       "       16.92928009, 16.93036794])"
      ]
     },
     "execution_count": 6,
     "metadata": {},
     "output_type": "execute_result"
    }
   ],
   "source": [
    "TT"
   ]
  },
  {
   "cell_type": "code",
   "execution_count": null,
   "metadata": {},
   "outputs": [],
   "source": []
  }
 ],
 "metadata": {
  "kernelspec": {
   "display_name": "Python 3",
   "language": "python",
   "name": "python3"
  },
  "language_info": {
   "codemirror_mode": {
    "name": "ipython",
    "version": 3
   },
   "file_extension": ".py",
   "mimetype": "text/x-python",
   "name": "python",
   "nbconvert_exporter": "python",
   "pygments_lexer": "ipython3",
   "version": "3.7.4"
  }
 },
 "nbformat": 4,
 "nbformat_minor": 4
}
