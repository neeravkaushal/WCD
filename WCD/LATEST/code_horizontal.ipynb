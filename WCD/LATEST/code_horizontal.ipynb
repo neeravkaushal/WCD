{
 "cells": [
  {
   "cell_type": "markdown",
   "metadata": {},
   "source": [
    "## Import Libraries"
   ]
  },
  {
   "cell_type": "code",
   "execution_count": 1,
   "metadata": {},
   "outputs": [],
   "source": [
    "import matplotlib.pyplot as plt\n",
    "from numpy import sin, cos, sqrt, pi, linspace, arange, deg2rad, rad2deg, array, arcsin, arccos,sort, argsort, argwhere, argmin, argmax, interp, concatenate\n",
    "from scipy.spatial import distance\n",
    "import warnings\n",
    "from numpy import linalg as LA\n",
    "warnings.simplefilter('ignore')\n",
    "\n",
    "def sec(x):\n",
    "    return 1/cos(x)\n",
    "def tan(x):\n",
    "    return sin(x)/cos(x)"
   ]
  },
  {
   "cell_type": "markdown",
   "metadata": {},
   "source": [
    "## Initialize Parameters "
   ]
  },
  {
   "cell_type": "code",
   "execution_count": 9,
   "metadata": {},
   "outputs": [
    {
     "name": "stdout",
     "output_type": "stream",
     "text": [
      "6.270604132263064\n",
      "A :  [0.65     3.591657 1.3     ]\n",
      "B :  [ 2.85       -2.28035085  1.3       ]\n"
     ]
    }
   ],
   "source": [
    "n      = 1.33\n",
    "c      = 299792458/n\n",
    "R      = 7.3/2 #--------------------- radius of tank\n",
    "v      = n * c\n",
    "times  = linspace(7e-10,1e-7,200000)\n",
    "\n",
    "c1       = (0, 0, 0)  #------------------------------------ Central    PMT number 1 \n",
    "c2       = (1.85*cos(2*pi/3) , 1.85*sin(2*pi/3), 0) #------ Non-Radial PMT number 2\n",
    "c3       = (1.85*cos(4*pi/3) , 1.85*sin(4*pi/3), 0) #------ Non-Radial PMT number 3\n",
    "c4       = (1.85*cos(0     ) , 1.85*sin(0     ), 0) #------ Radial     PMT number 4\n",
    "xA,xB,h  = R-3.0, -(R-6.5), 1.3\n",
    "\n",
    "plotme = 'b vs phi'                                                                                         #------PARAM\n",
    "\n",
    "A   = array( [xA,  sqrt(R**2-xA**2), h] )\n",
    "B   = array( [xB, -sqrt(R**2-xB**2), h] )\n",
    "AB  = B-A\n",
    "nAB = LA.norm(AB)\n",
    "print(nAB)\n",
    "den = c*c - v*v\n",
    "print('A : ', A)\n",
    "print('B : ', B)"
   ]
  },
  {
   "cell_type": "code",
   "execution_count": null,
   "metadata": {},
   "outputs": [],
   "source": [
    "def exit_brightness(nAB,BD,c,v,L,alpha):\n",
    "    x     = nAB\n",
    "    k     = LA.norm(BD)\n",
    "    t1    = x/v\n",
    "    t2    = k/c\n",
    "    tt    = t1 + t2    \n",
    "    x1    = (c*c*tt*v-L*v*v*cos(alpha)+sqrt(v*v*( -L*L*v*v + c*c*L*L + c*c*tt*tt*v*v - 2*c*c*L*tt*v*cos(alpha) + L*L*v*v*cos(alpha)**2))) / den\n",
    "    v1    = ( (c*c*v) + ( (c*c*v**3*(tt*v-L*cos(alpha)))  / (sqrt( v*v*(-L*L*v*v + c*c*(L*L+tt*tt*v*v) - 2*c*c*L*tt*v*cos(alpha) + L*L*v*v*cos(alpha)**2) )) )  ) / den\n",
    "    k1    = sqrt(L*L + x1*x1 - 2*L*x1*cos(alpha))\n",
    "    beta1 = pi - arccos((x1*x1 + k1*k1 - L*L)/(2*x1*k1))\n",
    "    v1t   = v1*sin(beta1)\n",
    "    omega1 = v1t / k1\n",
    "    b1 = abs(omega1 / (k1**2))\n",
    "    return b1"
   ]
  },
  {
   "cell_type": "code",
   "execution_count": 10,
   "metadata": {},
   "outputs": [
    {
     "name": "stdout",
     "output_type": "stream",
     "text": [
      "Using matplotlib backend: Qt5Agg\n",
      "Critical distance (from entry point) : 0.5391523328682734 m\n",
      "Critical distance (from entry point) : -1.5771746543902838 m\n",
      "Critical distance (from entry point) : 0.2692810128961523 m\n",
      "Critical distance (from entry point) : 2.293678679696532 m\n"
     ]
    }
   ],
   "source": [
    "%matplotlib\n",
    "plt.figure()\n",
    "\n",
    "detector_coordinates = [c1,c2,c3,c4]\n",
    "colors    = ['r','b','g','c']\n",
    "detectors = [1,2,3,4]\n",
    "\n",
    "plotme    = 'b vs t'\n",
    "\n",
    "for D, color, detector in zip(detector_coordinates, colors, detectors):\n",
    "    \n",
    "    AD    = D - A\n",
    "    BD    = D - B\n",
    "    L     = LA.norm(AD)\n",
    "    alpha = arccos((sum(AD*AB))/(L*nAB)) # OR use alpha1 = arccos( (L*L+x*x-k*k)/(2*x*L) )\n",
    "    \n",
    "    T, aX1, aX2, aB1, aB2, BETA1, BETA2 = [], [], [], [], [], [], []\n",
    "    \n",
    "    \n",
    "    num_xc = L*cos(alpha)*(c*c-v*v) + sqrt(-c**4*L**2*sin(alpha)**2 + c**2*L**2*v**2*sin(alpha)**2)\n",
    "    den    = (c**2-v**2)\n",
    "    xc     = (num_xc/den)\n",
    "    print('Critical distance (from entry point) : {} m'.format(xc))\n",
    "    #if (xc>nAB) or (xc<0):\n",
    "    #    print('Sorry! First RID is outside the tank. Not processing this case further.')\n",
    "        #continue\n",
    "    #ex_bright = exit_brightness(nAB,BD,c,v,L,alpha)\n",
    "    for iii,t in enumerate(times):\n",
    "\n",
    "        x     = v*t\n",
    "        ratio = x/nAB\n",
    "        X     = array([ (1-ratio)*A[0] + ratio*B[0] , (1-ratio)*A[1] + ratio*B[1] , h   ])\n",
    "        AX    = X - A\n",
    "        DX    = X - D\n",
    "        k     = LA.norm(DX)\n",
    "\n",
    "        t1    = t\n",
    "        t2    = k/c\n",
    "        tt    = t1 + t2    \n",
    "        \n",
    "        x1    = (c*c*tt*v-L*v*v*cos(alpha)+sqrt(v*v*( -L*L*v*v + c*c*L*L + c*c*tt*tt*v*v - 2*c*c*L*tt*v*cos(alpha) + L*L*v*v*cos(alpha)**2))) / den\n",
    "        x2    = (c*c*tt*v-L*v*v*cos(alpha)-sqrt(v*v*( -L*L*v*v + c*c*L*L + c*c*tt*tt*v*v - 2*c*c*L*tt*v*cos(alpha) + L*L*v*v*cos(alpha)**2))) / den\n",
    "\n",
    "        v1    = ( (c*c*v) + ( (c*c*v**3*(tt*v-L*cos(alpha)))  / (sqrt( v*v*(-L*L*v*v + c*c*(L*L+tt*tt*v*v) - 2*c*c*L*tt*v*cos(alpha) + L*L*v*v*cos(alpha)**2) )) )  ) / den\n",
    "        v2    = ((-c*c*v) + ( (c*c*v**3*(tt*v-L*cos(alpha)))  / (sqrt( v*v*(-L*L*v*v + c*c*(L*L+tt*tt*v*v) - 2*c*c*L*tt*v*cos(alpha) + L*L*v*v*cos(alpha)**2) )) )  ) / den \n",
    "\n",
    "        k1    = sqrt(L*L + x1*x1 - 2*L*x1*cos(alpha))\n",
    "        k2    = sqrt(L*L + x2*x2 - 2*L*x2*cos(alpha))\n",
    "        \n",
    "        beta1 = pi - arccos((x1*x1 + k1*k1 - L*L)/(2*x1*k1))\n",
    "        beta2 = pi - arccos((x2*x2 + k2*k2 - L*L)/(2*x2*k2))\n",
    "        \n",
    "        v1t   = v1*sin(beta1)\n",
    "        v2t   = v2*sin(beta2)\n",
    "\n",
    "        omega1 = v1t / k1\n",
    "        omega2 = v2t / k2\n",
    "\n",
    "        b1 = abs(omega1 / (k1**2))\n",
    "        b2 = abs(omega2 / (k2**2))\n",
    "\n",
    "        aX1.append(x1)\n",
    "        aX2.append(x2)\n",
    "        aB1.append(b1)\n",
    "        aB2.append(b2)\n",
    "        BETA1.append(rad2deg(beta1))\n",
    "        BETA2.append(rad2deg(beta2))\n",
    "        T.append(tt)\n",
    "\n",
    "    aX1, aX2, aB1, aB2, T, BETA1, BETA2 = array(aX1), array(aX2), array(aB1), array(aB2), array(T), array(BETA1), array(BETA2)\n",
    "    Tn  = T * 1e+9\n",
    "    TT  = (Tn-Tn.min())\n",
    "    condition = (aX1>=0) & (aX2<=nAB)\n",
    "    plt.plot(aX1,aB1,c=color)\n",
    "    plt.plot(aX2,aB2,c=color)\n",
    "plt.show()"
   ]
  },
  {
   "cell_type": "code",
   "execution_count": 5,
   "metadata": {},
   "outputs": [],
   "source": [
    "a=[]\n",
    "b=c=d=a"
   ]
  },
  {
   "cell_type": "code",
   "execution_count": null,
   "metadata": {},
   "outputs": [],
   "source": [
    "    if ptype==('y' or 'Y'):\n",
    "        print(ex_bright)\n",
    "        aB1 = aB1/ex_bright\n",
    "        aB2 = aB2/ex_bright\n",
    "    \n",
    "    if plotme == 'x vs t':\n",
    "        plt.plot(TT[condition], aX1[condition], c=color, ls='--')   # 1 == towards A    2 == towards B\n",
    "        plt.plot(TT[condition], aX2[condition], c=color, ls='-' , label='Detector {}'.format(detector))\n",
    "        plt.axhline(xc, c='k', ls=':')\n",
    "        plt.text(35, round(xc,2)+0.085, r'$x_c = {} \\; m$'.format(round(xc,2)), fontsize=16)\n",
    "        plt.xlabel(r'time $( t_{total} - t_{min} )$ (ns)', fontsize=18)\n",
    "        plt.ylabel(r'image distance from the entry point $x_{\\pm}$ (m)'       , fontsize=18).set_rotation(90)\n",
    "        plt.tick_params(axis='both', direction='in', labelsize=18)\n",
    "        plt.ylim(0,nAB)\n",
    "        plt.xlim(0,40)\n",
    "    elif plotme == 'b vs t':\n",
    "        plt.plot(TT[condition], aB1[condition], c=color, ls='--')\n",
    "        plt.plot(TT[condition], aB2[condition], c=color, ls='-' , label=r'Detector {}'.format(detector))\n",
    "        #plt.axhline(1, c='k', ls=':')\n",
    "        plt.xlabel(r'time $( t_{total} - t_{min} )$ (ns)', fontsize=18)\n",
    "        plt.ylabel(r'brightness ($b/b_{ground}$) '       , fontsize=18).set_rotation(90)\n",
    "        plt.tick_params(axis='both', direction='in', labelsize=18)        \n",
    "        plt.yscale('log')\n",
    "    elif plotme == 'b vs phi':\n",
    "        plt.plot(BETA1[condition], aB1[condition], c=color, ls='--')\n",
    "        plt.plot(BETA2[condition], aB2[condition], c=color, ls='-' , label=r'Detector {}'.format(detector))\n",
    "        #plt.axhline(1, c='k', ls=':')\n",
    "        plt.xlabel(r'angular locations $\\phi_{pm}\\;(in\\;degrees)$)', fontsize=18)\n",
    "        plt.ylabel(r'brightness ($b/b_{ground}$) '       , fontsize=18).set_rotation(90)\n",
    "        plt.tick_params(axis='both', direction='in', labelsize=18)        \n",
    "        plt.yscale('log')\n",
    "        plt.xlim(0,90)\n",
    "        #plt.xscale('log')\n",
    "        #plt.ylim(0,h)\n",
    "    elif plotme == 'phi vs t':\n",
    "        plt.plot(TT[condition], BETA1[condition], c=color, ls='--')\n",
    "        plt.plot(TT[condition], BETA2[condition], c=color, ls='-' , label=r'Detector {}'.format(detector))\n",
    "        #plt.axhline(1, c='k', ls=':')\n",
    "        plt.xlabel(r'time $( t_{total} - t_{min} )$ (ns)', fontsize=18)\n",
    "        plt.ylabel(r'angular locations $\\phi_{pm}\\;(in\\;degrees)$'       , fontsize=18).set_rotation(90)\n",
    "        plt.tick_params(axis='both', direction='in', labelsize=18)\n",
    "        plt.ylim(0,90)\n",
    "        #plt.xlim(0,25)\n",
    "        #plt.yscale('log')\n",
    "    #del condition, ex_bright, aB1,aB2,aX1,aX2,BETA1,BETA2,TT,\n",
    "plt.legend()\n",
    "plt.show()"
   ]
  },
  {
   "cell_type": "code",
   "execution_count": null,
   "metadata": {},
   "outputs": [],
   "source": []
  }
 ],
 "metadata": {
  "kernelspec": {
   "display_name": "Python 3",
   "language": "python",
   "name": "python3"
  },
  "language_info": {
   "codemirror_mode": {
    "name": "ipython",
    "version": 3
   },
   "file_extension": ".py",
   "mimetype": "text/x-python",
   "name": "python",
   "nbconvert_exporter": "python",
   "pygments_lexer": "ipython3",
   "version": "3.7.4"
  }
 },
 "nbformat": 4,
 "nbformat_minor": 4
}
