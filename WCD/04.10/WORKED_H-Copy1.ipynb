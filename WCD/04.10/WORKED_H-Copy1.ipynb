{
 "cells": [
  {
   "cell_type": "markdown",
   "metadata": {},
   "source": [
    "## Import Libraries"
   ]
  },
  {
   "cell_type": "code",
   "execution_count": 1,
   "metadata": {},
   "outputs": [],
   "source": [
    "import matplotlib.pyplot as plt\n",
    "from numpy import sin, cos, sqrt, pi, linspace, arange, deg2rad, rad2deg, array, arcsin, arccos,sort, argsort, argwhere, argmin, argmax, interp, concatenate, zeros\n",
    "from scipy.spatial import distance\n",
    "from numpy import linalg as LA\n",
    "import warnings\n",
    "warnings.simplefilter('ignore')\n",
    "\n",
    "def sec(x):\n",
    "    return 1/cos(x)\n",
    "def tan(x):\n",
    "    return sin(x)/cos(x)"
   ]
  },
  {
   "cell_type": "markdown",
   "metadata": {},
   "source": [
    "## Initialize Parameters "
   ]
  },
  {
   "cell_type": "code",
   "execution_count": 16,
   "metadata": {},
   "outputs": [
    {
     "name": "stdout",
     "output_type": "stream",
     "text": [
      "A   :  [0.65     3.591657 1.      ]\n",
      "B   :  [-6.65       -2.28035085  1.        ]\n",
      "D1  :  [0 0 0]\n",
      "D2  :  [-0.925     1.602147  0.      ]\n",
      "D3  :  [-0.925    -1.602147  0.      ]\n",
      "D4  :  [1.85 0.   0.  ]\n",
      "AB  :  9.368589871669835\n",
      "BD1 :  7.10 m\n",
      "BD2 :  6.99 m\n",
      "BD3 :  5.85 m\n",
      "BD4 :  8.86 m 3.7845078940332515\n",
      "Upper limit:  9.368589871669835 m\n"
     ]
    },
    {
     "data": {
      "text/plain": [
       "(-7.290918383103822, 4.170996113481134, -4.0213049029555386, 4.147620134931405)"
      ]
     },
     "execution_count": 16,
     "metadata": {},
     "output_type": "execute_result"
    },
    {
     "data": {
      "image/png": "[encoded data removed]",
      "text/plain": [
       "<Figure size 432x288 with 1 Axes>"
      ]
     },
     "metadata": {
      "needs_background": "light"
     },
     "output_type": "display_data"
    }
   ],
   "source": [
    "%matplotlib inline\n",
    "n      = 1.33\n",
    "c      = 299792458/n\n",
    "h      = 4.5\n",
    "Dia    = 7.3   #--------------------- diameter of tank\n",
    "R      = 7.3/2 #--------------------- radius of tank\n",
    "v      = n * c\n",
    "times  = linspace(7e-11,1e-7,200000)\n",
    "\n",
    "x1,y1,z1 = [ R-3, sqrt(R**2-(R-3)**2) ,1] #----------------------------------------- Coordinates of particle at top tanker lid      #------PARAM\n",
    "x2,y2,z2 = [-(R+3), -sqrt(R**2-(-R+6.5)**2),1] #-------------------- Calculate bottom y coordinate\n",
    "#x1,y1,z1 = [ ,0, 4 ]\n",
    "#x2,y2,z2 = [-R,0, 4 ]\n",
    "\n",
    "A      = array([x1,y1,z1])\n",
    "B      = array([x2,y2,z2])\n",
    "D1     = array([0, 0, 0])                                #------ Central    PMT number 1 \n",
    "D2     = array([1.85*cos(2*pi/3) , 1.85*sin(2*pi/3), 0]) #------ Non-Radial PMT number 2\n",
    "D3     = array([1.85*cos(4*pi/3) , 1.85*sin(4*pi/3), 0]) #------ Non-Radial PMT number 3\n",
    "D4     = array([1.85*cos(0)      , 1.85*sin(0     ), 0]) #------ Radial     PMT number 4\n",
    "\n",
    "AB    = LA.norm(B-A)\n",
    "BD1   = LA.norm(B-D1)\n",
    "BD2   = LA.norm(B-D2)\n",
    "BD3   = LA.norm(B-D3)\n",
    "BD4   = LA.norm(B-D4)\n",
    "\n",
    "limit     = AB \n",
    "print('A   : ', A)\n",
    "print('B   : ', B)\n",
    "print('D1  : ', D1)\n",
    "print('D2  : ', D2)\n",
    "print('D3  : ', D3)\n",
    "print('D4  : ', D4)\n",
    "print('AB  : ', AB)\n",
    "print('BD1 :  %.2f m\\nBD2 :  %.2f m\\nBD3 :  %.2f m\\nBD4 :  %.2f m'%(BD1,BD2,BD3,BD4), LA.norm(A-D1) )\n",
    "print('Upper limit: ', limit, \"m\")\n",
    "\n",
    "angs  = linspace(0,6.28,1000)\n",
    "xs,ys = R*cos(angs), R*sin(angs)\n",
    "plt.plot(xs,ys)\n",
    "plt.scatter(x1,y1,c='r',s=100)      ; plt.scatter(x2,y2,c='b',s=100);\n",
    "plt.scatter(D1[0],D1[1],c='k'); plt.scatter(D2[0],D2[1],c='k');\n",
    "plt.scatter(D3[0],D3[1],c='k');plt.scatter(D4[0],D4[1],c='k')\n",
    "plt.axhline(0)\n",
    "plt.axvline(0)\n",
    "plt.axis('scaled')"
   ]
  },
  {
   "cell_type": "code",
   "execution_count": 14,
   "metadata": {
    "jupyter": {
     "source_hidden": true
    }
   },
   "outputs": [],
   "source": [
    "def entry_brightness(AD,alpha,c,v,den,A,B,D):\n",
    "    return 1\n",
    "\n",
    "def Atphi(x,y,color,mylabel):\n",
    "    plt.plot(x, y, c=color, ls='-' , label=mylabel, lw=2)\n",
    "def Btphi(x,y,color,mylabel):\n",
    "    plt.plot(x, y, c=color, ls='-' , label=mylabel, lw=2)\n",
    "def ABtphi(xa,ya,xb,yb,color,mylabel):\n",
    "    plt.plot(xa, ya, c=color, ls='--' , label=mylabel, lw=2)\n",
    "    plt.plot(xb, yb, c=color, ls='-'  , label=mylabel, lw=2)\n",
    "\n",
    "def Atb(x,y,color,mylabel):\n",
    "    plt.plot(x, y, c=color, ls='-' , label=mylabel, lw=2)\n",
    "def Btb(x,y,color,mylabel):\n",
    "    plt.plot(x, y, c=color, ls='-' , label=mylabel, lw=2)\n",
    "def ABtb(xa,ya,xb,yb,color,mylabel):\n",
    "    plt.plot(xa, ya, c=color, ls='--' , label=mylabel, lw=2)\n",
    "    plt.plot(xb, yb, c=color, ls='-'  , label=mylabel, lw=2)\n",
    "\n",
    "def Atx(x,y,color,mylabel):\n",
    "    plt.plot(x, y, c=color, ls='-' , label=mylabel, lw=2)\n",
    "def Btx(x,y,color,mylabel):\n",
    "    plt.plot(x, y, c=color, ls='-' , label=mylabel, lw=2)\n",
    "def ABtx(xa,ya,xb,yb,color,mylabel):\n",
    "    plt.plot(xa, ya, c=color, ls='--' , label=mylabel, lw=2)\n",
    "    plt.plot(xb, yb, c=color, ls='-'  , label=mylabel, lw=2)\n",
    "    \n",
    "def Aphib(x,y,color,mylabel):\n",
    "    plt.plot(x, y, c=color, ls='-' , label=mylabel, lw=2)\n",
    "def Bphib(x,y,color,mylabel):\n",
    "    plt.plot(x, y, c=color, ls='-' , label=mylabel, lw=2)\n",
    "def ABphib(xa,ya,xb,yb,color,mylabel):\n",
    "    plt.plot(xa, ya, c=color, ls='--' , label=mylabel, lw=2)\n",
    "    plt.plot(xb, yb, c=color, ls='-'  , label=mylabel, lw=2)\n"
   ]
  },
  {
   "cell_type": "code",
   "execution_count": 5,
   "metadata": {},
   "outputs": [
    {
     "data": {
      "text/plain": [
       "(5.479179051380661, 5.479179051380661)"
      ]
     },
     "execution_count": 5,
     "metadata": {},
     "output_type": "execute_result"
    }
   ],
   "source": [
    "LA.norm(A-D2), distance.euclidean(A,D2)"
   ]
  },
  {
   "cell_type": "code",
   "execution_count": 12,
   "metadata": {},
   "outputs": [
    {
     "name": "stdout",
     "output_type": "stream",
     "text": [
      "Using matplotlib backend: Qt5Agg\n",
      "Detector  1 [0 0 0]\n",
      "A, B, D ====  [2.         3.05327693 1.        ] [-2.         -3.05327693  1.        ] [0 0 0]\n",
      "XC: 5.703222166531826\n",
      "0.3000487818332092\t-3.6875194511518865\t0.3000487818332099\n",
      "0.5998127594072971\t-4.268417829470877\t0.599812759407301\n",
      "0.8995767369813849\t-4.92078935385654\t0.8995767369813862\n",
      "1.1993407145554729\t-5.652772634878156\t1.1993407145554758\n",
      "1.499104692129561\t-6.471917770119171\t1.499104692129562\n",
      "1.7988686697036487\t-7.3845126430741805\t1.7988686697036471\n",
      "2.0986326472777366\t-8.39490623930937\t2.098632647277734\n",
      "2.3983966248518245\t-9.50497725260621\t2.398396624851823\n",
      "2.698160602425912\t-10.713888204073397\t2.698160602425908\n",
      "2.9979245800000003\t-12.018196276183486\t2.997924579999997\n",
      "Detector  2 [-0.925     1.602147  0.      ]\n",
      "A, B, D ====  [2.         3.05327693 1.        ] [-2.         -3.05327693  1.        ] [-0.925     1.602147  0.      ]\n",
      "XC: 5.177787269422254\n",
      "0.3000487818332092\t-1.5520267441170452\t0.3000487818331976\n",
      "0.5998127594072971\t-2.0125641241020396\t0.599812759407301\n",
      "0.8995767369813849\t-2.542806654462237\t0.8995767369813854\n",
      "1.1993407145554729\t-3.1548524019690705\t1.1993407145554695\n",
      "1.499104692129561\t-3.8612791534880535\t1.4991046921295583\n",
      "1.7988686697036487\t-4.674017050972498\t1.7988686697036496\n",
      "2.0986326472777366\t-5.602839886628674\t2.098632647277736\n",
      "2.3983966248518245\t-6.6537940763544725\t2.398396624851823\n",
      "2.698160602425912\t-7.82807093936214\t2.698160602425912\n",
      "2.9979245800000003\t-9.121770235576706\t2.997924579999998\n",
      "Detector  3 [-0.925    -1.602147  0.      ]\n",
      "A, B, D ====  [2.         3.05327693 1.        ] [-2.         -3.05327693  1.        ] [-0.925    -1.602147  0.      ]\n",
      "XC: 8.401437112307425\n",
      "0.3000487818332092\t-5.6143291509579685\t0.3000487818332054\n",
      "0.5998127594072971\t-6.181327584060864\t0.5998127594072998\n",
      "0.8995767369813849\t-6.794051782067733\t0.8995767369813804\n",
      "1.1993407145554729\t-7.45618603667504\t1.199340714555472\n",
      "1.499104692129561\t-8.17136627612179\t1.499104692129562\n",
      "1.7988686697036487\t-8.943062602265904\t1.7988686697036487\n",
      "2.0986326472777366\t-9.774445630116267\t2.098632647277733\n",
      "2.3983966248518245\t-10.668245269834594\t2.3983966248518196\n",
      "2.698160602425912\t-11.626614081874528\t2.698160602425912\n",
      "2.9979245800000003\t-12.651009470435808\t2.9979245799999963\n",
      "Detector  4 [1.85 0.   0.  ]\n",
      "A, B, D ====  [2.         3.05327693 1.        ] [-2.         -3.05327693  1.        ] [1.85 0.   0.  ]\n",
      "XC: 4.87606835355474\n",
      "0.3000487818332092\t-1.4267884539133888\t0.3000487818332125\n",
      "0.5998127594072971\t-1.8886646357221457\t0.5998127594072923\n",
      "0.8995767369813849\t-2.425579331593158\t0.8995767369813855\n",
      "1.1993407145554729\t-3.0513723511592366\t1.199340714555472\n",
      "1.499104692129561\t-3.7803181653055513\t1.4991046921295657\n",
      "1.7988686697036487\t-4.625580041302442\t1.7988686697036487\n",
      "2.0986326472777366\t-5.5972053979463015\t2.098632647277732\n",
      "2.3983966248518245\t-6.700204714975853\t2.3983966248518223\n",
      "2.698160602425912\t-7.933463801483833\t2.6981606024259106\n",
      "2.9979245800000003\t-9.289993218235114\t2.997924580000001\n"
     ]
    }
   ],
   "source": [
    "%matplotlib\n",
    "#plt.figure(figsize=(15,12))\n",
    "\n",
    "plotme='t vs x'\n",
    "\n",
    "det_nums  = [1,2,3,4]\n",
    "det_coors = [D1,D2,D3,D4]\n",
    "colors    = ['k','r','b','g']\n",
    "labels    = ['Central Detector', \"Detector 2\",'Detector 3','Detector 4']\n",
    "\n",
    "for det_num, det_coor, color, mylabel in zip(det_nums, det_coors, colors, labels):\n",
    "    \n",
    "    print(\"Detector \", det_num, det_coor)\n",
    "    print('A, B, D ==== ',A,B,det_coor)\n",
    "    D  = det_coor\n",
    "    AB = LA.norm(A-B)\n",
    "    L      = LA.norm(A-D)\n",
    "    alpha  = sum((A-D)*(A-B)) / (L*AB)\n",
    "    den    = c*c-v*v\n",
    "    \n",
    "    xc     = L*cos(alpha) - sqrt(L*L*c*c*den*(cos(alpha)**2-1))/den\n",
    "    print(\"XC:\", xc)\n",
    "    \n",
    "    TT, XtoA, XtoB, BtoA, BtoB, PHItoA, PHItoB = [], [], [], [], [], [], []\n",
    "    \n",
    "    \n",
    "    for iii,t in enumerate(times):\n",
    "        x      = v*t\n",
    "        k      = sqrt(L*L + x*x - 2*L*x*cos(alpha))\n",
    "        tt     = t + k/c\n",
    "        xtermA = c*c*tt*v - L*v*v*cos(alpha) \n",
    "        xtermB = v*v*( (c*tt*v)**2 + (L*v*cos(alpha))**2 + (L*c)**2 - (L*v)**2 - 2*c*c*L*tt*v*cos(alpha) )\n",
    "        vtermA = c*c*v**3*(tt*v - L*cos(alpha))\n",
    "        xa,xb  = (xtermA + sqrt(xtermB))/den , (xtermA - sqrt(xtermB))/den\n",
    "        TT.append(tt)\n",
    "        XtoA.append(xa)\n",
    "        XtoB.append(xb)\n",
    "        if ((iii+1)%20000==0):\n",
    "            print(x,xa,xb,sep='\\t')\n",
    "        #    print(x,t,tt,xa,xb,Xa,Xb,sep='\\t')#va,vb,ka,kb,phia,phib,sep='\\t')\n",
    "    "
   ]
  },
  {
   "cell_type": "code",
   "execution_count": 19,
   "metadata": {},
   "outputs": [],
   "source": [
    "argmin(TT)\n",
    "\n",
    "        va,vb  = (c*c*v + vtermA/sqrt(xtermB))/den, (c*c*v - vtermA/sqrt(xtermB))/den\n",
    "\n",
    "        ra,rb  = xa/AB, xb/AB\n",
    "        \n",
    "        Xa     = array([ (1-ra)*A[0] + ra*B[0] , (1-ra)*A[1] + ra*B[1] , (1-ra)*A[2]+ra*B[2] ])\n",
    "        Xb     = array([ (1-rb)*A[0] + rb*B[0] , (1-rb)*A[1] + rb*B[1] , (1-rb)*A[2]+rb*B[2] ])\n",
    "        \n",
    "        ka,kb  = LA.norm(D-Xa) , LA.norm(D-Xb)\n",
    "        phia   = arccos ( sum((D-A)*(D-Xa)) / (AD*ka) )\n",
    "        phib   = arccos ( sum((D-A)*(D-Xb)) / (AD*kb) )\n",
    "        betaa  = arccos ( sum((D-Xa)*(B-Xa)) / (ka*LA.norm(B-Xa)) )\n",
    "        betab  = arccos ( sum((D-Xb)*(B-Xb)) / (kb*LA.norm(B-Xb)) )\n",
    "        \n",
    "        vta      = va * sin(betaa)\n",
    "        vtb      = vb * sin(betab)\n",
    "        omegaa   = (vta / ka)\n",
    "        omegab   = (vtb / kb)\n",
    "        brighta  = abs(omegaa / (ka**2))\n",
    "        brightb  = abs(omegab / (kb**2))\n",
    "        \n",
    "        XtoA.append(xa)\n",
    "        XtoB.append(xb)\n",
    "        BtoA.append(brighta)\n",
    "        BtoB.append(brightb)\n",
    "        PHItoA.append(rad2deg(phia))\n",
    "        PHItoB.append(rad2deg(phib))\n",
    "        TT.append(tt*1e9)\n",
    "        \n",
    "        #if ((iii+1)%20000==0):\n",
    "        #    print(c,v,t,x,tt,sep='\\t'\n",
    "        #    print(x,t,tt,xa,xb,Xa,Xb,sep='\\t')#va,vb,ka,kb,phia,phib,sep='\\t')\n",
    "        \n",
    "    #rc  = xc/nAB\n",
    "    #Xc  = array([ (1-rc)*A[0] + rc*B[0] , (1-rc)*A[1] + rc*B[1] , (1-rc)*A[2]+rc*B[2] ])\n",
    "    #PHI = arccos( sum((D-Xc)*(D-A))  / (LA.norm(D-Xc)*LA.norm(D-A)) ) ; PHI = rad2deg(PHI)\n",
    "\n",
    "    #print(\"PHI: \",round(rad2deg(PHI),2), \"XC: \", round(xc,2))\n",
    "    XtoA, XtoB, TT, BtoA, BtoB, PHItoA, PHItoB = array(XtoA), array(XtoB), array(TT), array(BtoA), array(BtoB), array(PHItoA), array(PHItoB)\n",
    "        \n",
    "    cona = [(XtoA>=0) & (XtoA<=AB)]\n",
    "    conb = [(XtoB>=0) & (XtoB<=AB)]\n",
    "    alen = len (XtoA[cona])\n",
    "    blen = len (XtoB[conb])\n",
    "    print(alen, blen)\n",
    "    if det_num==1:\n",
    "        den_bright = entry_brightness(AD,alpha,c,v,den,A,B,D)\n",
    "    \n",
    "    if alen == 0:\n",
    "        if blen == 0:\n",
    "            print(\"Images outside tank. Skipping...\")\n",
    "        else:\n",
    "            print('Only image moving forward towards B. Processing...')\n",
    "            TTb, XtoB, BtoB, PHItoB = TT[conb], XtoB[conb], BtoB[conb]/den_bright, PHItoB[conb]\n",
    "            if   plotme=='b vs phi': Bphib (x=PHItoB, y=BtoB  , color=color, mylabel=mylabel)\n",
    "            elif plotme=='t vs b'  : Btb   (x=TTb   , y=BtoB  , color=color, mylabel=mylabel)\n",
    "            elif plotme=='t vs phi': Btphi (x=TTb   , y=PHItoB, color=color, mylabel=mylabel)\n",
    "            elif plotme=='t vs x'  : Btx   (x=TTb   , y=XtoB  , color=color, mylabel=mylabel)\n",
    "    \n",
    "    elif alen != 0:\n",
    "        if blen == 0:\n",
    "            print('Only image moving back towards A. Processing...')\n",
    "            TTa, XtoA, BtoA, PHItoA = TT[cona], XtoA[cona], BtoA[cona]/den_bright, PHItoA[cona]\n",
    "            if   plotme=='b vs phi': Aphib  (x=PHItoA, y=BtoA  , color=color, mylabel=mylabel)\n",
    "            elif plotme=='t vs b'  : Atb    (x=TTa   , y=BtoA  , color=color, mylabel=mylabel)\n",
    "            elif plotme=='t vs phi': Atphi  (x=TTa   , y=PHItoA, color=color, mylabel=mylabel)\n",
    "            elif plotme=='t vs x'  : Atx    (x=TTa   , y=XtoA  , color=color, mylabel=mylabel)\n",
    "        else:\n",
    "            print('Both images moving in both directions. Processing...')\n",
    "            TTa,XtoA,BtoA,PHItoA = TT[cona],XtoA[cona],BtoA[cona]/den_bright,PHItoA[cona]\n",
    "            TTb,XtoB,BtoB,PHItoB = TT[conb],XtoB[conb],BtoB[conb]/den_bright,PHItoB[conb]\n",
    "            if   plotme=='b vs phi': ABphib  (xa=PHItoA, ya=BtoA  , xb=PHItoB, yb=BtoB  , color=color, mylabel=mylabel)\n",
    "            elif plotme=='t vs b'  : ABtb    (xa=TTa   , ya=BtoA  , xb=TTb   , yb=BtoB  , color=color, mylabel=mylabel)\n",
    "            elif plotme=='t vs phi': ABtphi  (xa=TTa   , ya=PHItoA, xb=TTb   , yb=PHItoB, color=color, mylabel=mylabel)\n",
    "            elif plotme=='t vs x'  : ABtx    (xa=TTa   , ya=XtoA  , xb=TTb   , yb=XtoB  , color=color, mylabel=mylabel)\n",
    "   # break\n",
    "plt.legend() #loc='upper right', prop={'size': 14})\n",
    "plt.tick_params(axis='both', direction='in', labelsize=18)\n",
    "plt.show()"
   ]
  },
  {
   "cell_type": "code",
   "execution_count": null,
   "metadata": {},
   "outputs": [],
   "source": []
  },
  {
   "cell_type": "code",
   "execution_count": null,
   "metadata": {},
   "outputs": [],
   "source": []
  },
  {
   "cell_type": "code",
   "execution_count": null,
   "metadata": {},
   "outputs": [],
   "source": []
  },
  {
   "cell_type": "raw",
   "metadata": {},
   "source": [
    "# phi vs t\n",
    "plt.xlabel('time since muon entry (ns)',fontsize=18)\n",
    "plt.ylabel(r'angular locations $\\phi_{pm}\\;(in\\;degrees)$', fontsize=18)\n",
    "plt.xticks(arange(10,37,2))\n",
    "plt.xlim(10.02,36.07)\n",
    "\n",
    "# b vs t\n",
    "plt.xlabel('time since muon entry (ns)',fontsize=18)\n",
    "plt.ylabel('relative brightness ($b/b_{entry}$)', fontsize=18) \n",
    "plt.xticks(arange(11,38,2))\n",
    "plt.yscale('log')\n",
    "plt.xlim(10.02,36.07)\n",
    "plt.ylim(0.34,286.5)\n",
    "\n",
    "# b vs phi\n",
    "plt.xlabel(r'angular locations $\\phi_{pm}\\;(in\\;degrees)$',fontsize=18)\n",
    "plt.ylabel(r'relative brightness ($b/b_{entry}$)', fontsize=18) \n",
    "plt.yscale('log')\n",
    "\n",
    "# z vs t\n",
    "plt.xlabel('time since muon entry (ns)',fontsize=18)\n",
    "plt.ylabel(r'image heights $z_{pm} (in\\;meters)$'     , fontsize=18).set_rotation(90)\n",
    "plt.xticks(arange(10,38,2))\n",
    "plt.ylim(-0.02,limit)\n",
    "plt.xlim(9.99,36.07)"
   ]
  }
 ],
 "metadata": {
  "kernelspec": {
   "display_name": "Python 3",
   "language": "python",
   "name": "python3"
  },
  "language_info": {
   "codemirror_mode": {
    "name": "ipython",
    "version": 3
   },
   "file_extension": ".py",
   "mimetype": "text/x-python",
   "name": "python",
   "nbconvert_exporter": "python",
   "pygments_lexer": "ipython3",
   "version": "3.7.4"
  }
 },
 "nbformat": 4,
 "nbformat_minor": 4
}
