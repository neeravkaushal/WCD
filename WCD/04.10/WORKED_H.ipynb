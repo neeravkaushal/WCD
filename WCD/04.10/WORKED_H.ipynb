{
 "cells": [
  {
   "cell_type": "markdown",
   "metadata": {},
   "source": [
    "## Import Libraries"
   ]
  },
  {
   "cell_type": "code",
   "execution_count": 1,
   "metadata": {},
   "outputs": [],
   "source": [
    "import matplotlib.pyplot as plt\n",
    "from numpy import sin, cos, sqrt, pi, linspace, arange, deg2rad, rad2deg, array, arcsin, arccos,sort, argsort, argwhere, argmin, argmax, interp, concatenate, zeros\n",
    "from scipy.spatial import distance\n",
    "from numpy import linalg as LA\n",
    "import warnings\n",
    "warnings.simplefilter('ignore')\n",
    "\n",
    "def sec(x):\n",
    "    return 1/cos(x)\n",
    "def tan(x):\n",
    "    return sin(x)/cos(x)"
   ]
  },
  {
   "cell_type": "markdown",
   "metadata": {},
   "source": [
    "## Initialize Parameters "
   ]
  },
  {
   "cell_type": "code",
   "execution_count": 18,
   "metadata": {},
   "outputs": [
    {
     "name": "stdout",
     "output_type": "stream",
     "text": [
      "A   :  [2.         3.05327693 4.4       ]\n",
      "B   :  [-2.         -3.05327693  4.4       ]\n",
      "D1  :  [0 0 0]\n",
      "D2  :  [-0.925     1.602147  0.      ]\n",
      "D3  :  [-0.925    -1.602147  0.      ]\n",
      "D4  :  [1.85 0.   0.  ]\n",
      "AB  :  7.300000000000001\n",
      "BD1 :  5.72 m\n",
      "BD2 :  6.50 m\n",
      "BD3 :  4.76 m\n",
      "BD4 :  6.60 m 5.7168610268223246\n",
      "Upper limit:  7.300000000000001 m\n"
     ]
    },
    {
     "data": {
      "text/plain": [
       "(-4.014995393301708, 4.014999780633414, -4.014989580089784, 4.014998354750561)"
      ]
     },
     "execution_count": 18,
     "metadata": {},
     "output_type": "execute_result"
    },
    {
     "data": {
      "image/png": "[encoded data removed]",
      "text/plain": [
       "<Figure size 432x288 with 1 Axes>"
      ]
     },
     "metadata": {
      "needs_background": "light"
     },
     "output_type": "display_data"
    }
   ],
   "source": [
    "%matplotlib inline\n",
    "n      = 1.33\n",
    "c      = 299792458/n\n",
    "h      = 4.5\n",
    "Dia    = 7.3   #--------------------- diameter of tank\n",
    "R      = 7.3/2 #--------------------- radius of tank\n",
    "v      = n * c\n",
    "times  = linspace(1e-12,1e-8,200000)\n",
    "\n",
    "x1,y1,z1 = [ 2, sqrt(R**2-2**2),4.4] #----------------------------------------- Coordinates of particle at top tanker lid      #------PARAM\n",
    "x2,y2,z2 = [-2, -sqrt(R**2-2**2),4.4] #-------------------- Calculate bottom y coordinate\n",
    "#x1,y1,z1 = [ ,0, 4 ]\n",
    "#x2,y2,z2 = [-R,0, 4 ]\n",
    "\n",
    "A      = array([x1,y1,z1])\n",
    "B      = array([x2,y2,z2])\n",
    "D1     = array([0, 0, 0])                                #------ Central    PMT number 1 \n",
    "D2     = array([1.85*cos(2*pi/3) , 1.85*sin(2*pi/3), 0]) #------ Non-Radial PMT number 2\n",
    "D3     = array([1.85*cos(4*pi/3) , 1.85*sin(4*pi/3), 0]) #------ Non-Radial PMT number 3\n",
    "D4     = array([1.85*cos(0)      , 1.85*sin(0     ), 0]) #------ Radial     PMT number 4\n",
    "\n",
    "AB    = LA.norm(B-A)\n",
    "BD1   = LA.norm(B-D1)\n",
    "BD2   = LA.norm(B-D2)\n",
    "BD3   = LA.norm(B-D3)\n",
    "BD4   = LA.norm(B-D4)\n",
    "\n",
    "limit     = AB \n",
    "print('A   : ', A)\n",
    "print('B   : ', B)\n",
    "print('D1  : ', D1)\n",
    "print('D2  : ', D2)\n",
    "print('D3  : ', D3)\n",
    "print('D4  : ', D4)\n",
    "print('AB  : ', AB)\n",
    "print('BD1 :  %.2f m\\nBD2 :  %.2f m\\nBD3 :  %.2f m\\nBD4 :  %.2f m'%(BD1,BD2,BD3,BD4), LA.norm(A-D1) )\n",
    "print('Upper limit: ', limit, \"m\")\n",
    "\n",
    "angs  = linspace(0,6.28,1000)\n",
    "xs,ys = R*cos(angs), R*sin(angs)\n",
    "plt.plot(xs,ys)\n",
    "plt.scatter(x1,y1,c='r',s=100)      ; plt.scatter(x2,y2,c='b',s=100);\n",
    "plt.scatter(D1[0],D1[1],c='k'); plt.scatter(D2[0],D2[1],c='k');\n",
    "plt.scatter(D3[0],D3[1],c='k');plt.scatter(D4[0],D4[1],c='k')\n",
    "plt.axhline(0)\n",
    "plt.axvline(0)\n",
    "plt.axis('scaled')"
   ]
  },
  {
   "cell_type": "code",
   "execution_count": 14,
   "metadata": {
    "jupyter": {
     "source_hidden": true
    }
   },
   "outputs": [],
   "source": [
    "def entry_brightness(AD,alpha,c,v,den,A,B,D):\n",
    "    return 1\n",
    "\n",
    "def Atphi(x,y,color,mylabel):\n",
    "    plt.plot(x, y, c=color, ls='-' , label=mylabel, lw=2)\n",
    "def Btphi(x,y,color,mylabel):\n",
    "    plt.plot(x, y, c=color, ls='-' , label=mylabel, lw=2)\n",
    "def ABtphi(xa,ya,xb,yb,color,mylabel):\n",
    "    plt.plot(xa, ya, c=color, ls='--' , label=mylabel, lw=2)\n",
    "    plt.plot(xb, yb, c=color, ls='-'  , label=mylabel, lw=2)\n",
    "\n",
    "def Atb(x,y,color,mylabel):\n",
    "    plt.plot(x, y, c=color, ls='-' , label=mylabel, lw=2)\n",
    "def Btb(x,y,color,mylabel):\n",
    "    plt.plot(x, y, c=color, ls='-' , label=mylabel, lw=2)\n",
    "def ABtb(xa,ya,xb,yb,color,mylabel):\n",
    "    plt.plot(xa, ya, c=color, ls='--' , label=mylabel, lw=2)\n",
    "    plt.plot(xb, yb, c=color, ls='-'  , label=mylabel, lw=2)\n",
    "\n",
    "def Atx(x,y,color,mylabel):\n",
    "    plt.plot(x, y, c=color, ls='-' , label=mylabel, lw=2)\n",
    "def Btx(x,y,color,mylabel):\n",
    "    plt.plot(x, y, c=color, ls='-' , label=mylabel, lw=2)\n",
    "def ABtx(xa,ya,xb,yb,color,mylabel):\n",
    "    plt.plot(xa, ya, c=color, ls='--' , label=mylabel, lw=2)\n",
    "    plt.plot(xb, yb, c=color, ls='-'  , label=mylabel, lw=2)\n",
    "    \n",
    "def Aphib(x,y,color,mylabel):\n",
    "    plt.plot(x, y, c=color, ls='-' , label=mylabel, lw=2)\n",
    "def Bphib(x,y,color,mylabel):\n",
    "    plt.plot(x, y, c=color, ls='-' , label=mylabel, lw=2)\n",
    "def ABphib(xa,ya,xb,yb,color,mylabel):\n",
    "    plt.plot(xa, ya, c=color, ls='--' , label=mylabel, lw=2)\n",
    "    plt.plot(xb, yb, c=color, ls='-'  , label=mylabel, lw=2)\n"
   ]
  },
  {
   "cell_type": "code",
   "execution_count": 19,
   "metadata": {},
   "outputs": [
    {
     "name": "stdout",
     "output_type": "stream",
     "text": [
      "Using matplotlib backend: Qt5Agg\n",
      "Detector  1 [0 0 0]\n",
      "A, B, D ====  [2.         3.05327693 4.4       ] [-2.         -3.05327693  4.4       ] [0 0 0]\n",
      "xc: 8.47615963883799\n",
      "0.3000487818332092\t0.30004878183327954\t1.087942413048859\n",
      "0.5998127594072971\t0.5998127594074166\t0.8091325249771698\n",
      "0.8995767369813849\t0.5053099072225111\t0.8995767369813047\n",
      "1.1993407145554729\t0.17297433163202702\t1.1993407145554142\n",
      "1.499104692129561\t-0.1918902237534721\t1.4991046921295417\n",
      "1.7988686697036487\t-0.5938609071744549\t1.7988686697036318\n",
      "2.0986326472777366\t-1.0381032798774594\t2.09863264727772\n",
      "2.3983966248518245\t-1.5303661748493775\t2.398396624851811\n",
      "2.698160602425912\t-2.076925363364214\t2.6981606024258955\n",
      "2.9979245800000003\t-2.684454436455993\t2.997924579999998\n",
      "Detector  2 [-0.925     1.602147  0.      ]\n",
      "A, B, D ====  [2.         3.05327693 4.4       ] [-2.         -3.05327693  4.4       ] [-0.925     1.602147  0.      ]\n",
      "xc: 7.843550980962491\n",
      "0.3000487818332092\t0.30004878183321154\t2.813018651862479\n",
      "0.5998127594072971\t0.5998127594072655\t2.613417997304249\n",
      "0.8995767369813849\t0.8995767369813654\t2.3953458163944936\n",
      "1.1993407145554729\t1.199340714555462\t2.155717627176083\n",
      "1.499104692129561\t1.499104692129585\t1.8908288888568219\n",
      "1.7988686697036487\t1.5962306917818179\t1.7988686697038696\n",
      "2.0986326472777366\t1.266593219657651\t2.0986326472777965\n",
      "2.3983966248518245\t0.8955682163120575\t2.3983966248518613\n",
      "2.698160602425912\t0.4756733245564142\t2.698160602425901\n",
      "2.9979245800000003\t-0.0017615269320766305\t2.997924580000008\n",
      "Detector  3 [-0.925    -1.602147  0.      ]\n",
      "A, B, D ====  [2.         3.05327693 4.4       ] [-2.         -3.05327693  4.4       ] [-0.925    -1.602147  0.      ]\n",
      "xc: 10.654521614652516\n",
      "0.3000487818332092\t-1.6958025056172192\t0.30004878183315525\n"
     ]
    },
    {
     "ename": "KeyboardInterrupt",
     "evalue": "",
     "output_type": "error",
     "traceback": [
      "\u001b[0;31m---------------------------------------------------------------------------\u001b[0m",
      "\u001b[0;31mKeyboardInterrupt\u001b[0m                         Traceback (most recent call last)",
      "\u001b[0;32m<ipython-input-19-af1f46b571fc>\u001b[0m in \u001b[0;36m<module>\u001b[0;34m\u001b[0m\n\u001b[1;32m     25\u001b[0m         \u001b[0mx\u001b[0m      \u001b[0;34m=\u001b[0m \u001b[0mv\u001b[0m\u001b[0;34m*\u001b[0m\u001b[0mt\u001b[0m\u001b[0;34m\u001b[0m\u001b[0;34m\u001b[0m\u001b[0m\n\u001b[1;32m     26\u001b[0m         \u001b[0mr\u001b[0m      \u001b[0;34m=\u001b[0m \u001b[0mx\u001b[0m\u001b[0;34m/\u001b[0m\u001b[0mAB\u001b[0m\u001b[0;34m\u001b[0m\u001b[0;34m\u001b[0m\u001b[0m\n\u001b[0;32m---> 27\u001b[0;31m         \u001b[0mX\u001b[0m      \u001b[0;34m=\u001b[0m \u001b[0marray\u001b[0m\u001b[0;34m(\u001b[0m \u001b[0;34m[\u001b[0m \u001b[0;34m(\u001b[0m\u001b[0;36m1\u001b[0m\u001b[0;34m-\u001b[0m\u001b[0mr\u001b[0m\u001b[0;34m)\u001b[0m\u001b[0;34m*\u001b[0m\u001b[0mA\u001b[0m\u001b[0;34m[\u001b[0m\u001b[0;36m0\u001b[0m\u001b[0;34m]\u001b[0m\u001b[0;34m+\u001b[0m\u001b[0mr\u001b[0m\u001b[0;34m*\u001b[0m\u001b[0mB\u001b[0m\u001b[0;34m[\u001b[0m\u001b[0;36m0\u001b[0m\u001b[0;34m]\u001b[0m\u001b[0;34m,\u001b[0m \u001b[0;34m(\u001b[0m\u001b[0;36m1\u001b[0m\u001b[0;34m-\u001b[0m\u001b[0mr\u001b[0m\u001b[0;34m)\u001b[0m\u001b[0;34m*\u001b[0m\u001b[0mA\u001b[0m\u001b[0;34m[\u001b[0m\u001b[0;36m1\u001b[0m\u001b[0;34m]\u001b[0m\u001b[0;34m+\u001b[0m\u001b[0mr\u001b[0m\u001b[0;34m*\u001b[0m\u001b[0mB\u001b[0m\u001b[0;34m[\u001b[0m\u001b[0;36m1\u001b[0m\u001b[0;34m]\u001b[0m\u001b[0;34m,\u001b[0m \u001b[0;34m(\u001b[0m\u001b[0;36m1\u001b[0m\u001b[0;34m-\u001b[0m\u001b[0mr\u001b[0m\u001b[0;34m)\u001b[0m\u001b[0;34m*\u001b[0m\u001b[0mA\u001b[0m\u001b[0;34m[\u001b[0m\u001b[0;36m2\u001b[0m\u001b[0;34m]\u001b[0m\u001b[0;34m+\u001b[0m\u001b[0mr\u001b[0m\u001b[0;34m*\u001b[0m\u001b[0mB\u001b[0m\u001b[0;34m[\u001b[0m\u001b[0;36m2\u001b[0m\u001b[0;34m]\u001b[0m \u001b[0;34m]\u001b[0m \u001b[0;34m)\u001b[0m\u001b[0;34m\u001b[0m\u001b[0;34m\u001b[0m\u001b[0m\n\u001b[0m\u001b[1;32m     28\u001b[0m         \u001b[0mAX\u001b[0m     \u001b[0;34m=\u001b[0m \u001b[0mx\u001b[0m\u001b[0;34m\u001b[0m\u001b[0;34m\u001b[0m\u001b[0m\n\u001b[1;32m     29\u001b[0m         \u001b[0mk\u001b[0m      \u001b[0;34m=\u001b[0m \u001b[0msqrt\u001b[0m\u001b[0;34m(\u001b[0m\u001b[0mAD\u001b[0m\u001b[0;34m**\u001b[0m\u001b[0;36m2\u001b[0m\u001b[0;34m+\u001b[0m\u001b[0mAX\u001b[0m\u001b[0;34m**\u001b[0m\u001b[0;36m2\u001b[0m\u001b[0;34m-\u001b[0m\u001b[0;36m2\u001b[0m\u001b[0;34m*\u001b[0m\u001b[0mAD\u001b[0m\u001b[0;34m*\u001b[0m\u001b[0mAX\u001b[0m\u001b[0;34m*\u001b[0m\u001b[0mcos\u001b[0m\u001b[0;34m(\u001b[0m\u001b[0malpha\u001b[0m\u001b[0;34m)\u001b[0m\u001b[0;34m)\u001b[0m \u001b[0;31m#LA.norm(D-X)\u001b[0m\u001b[0;34m\u001b[0m\u001b[0;34m\u001b[0m\u001b[0m\n",
      "\u001b[0;31mKeyboardInterrupt\u001b[0m: "
     ]
    }
   ],
   "source": [
    "%matplotlib\n",
    "#plt.figure(figsize=(15,12))\n",
    "\n",
    "plotme='t vs x'\n",
    "\n",
    "det_nums  = [1,2,3,4]\n",
    "det_coors = [D1,D2,D3,D4]\n",
    "colors    = ['k','r','b','g']\n",
    "labels    = ['Central Detector', \"Detector 2\",'Detector 3','Detector 4']\n",
    "\n",
    "for det_num, det_coor, color, mylabel in zip(det_nums, det_coors, colors, labels):\n",
    "    \n",
    "    print(\"Detector \", det_num, det_coor)\n",
    "    print('A, B, D ==== ',A,B,det_coor)\n",
    "    D  = det_coor\n",
    "    AD = LA.norm(A-D)\n",
    "    AB = LA.norm(A-B)\n",
    "    alpha  = sum((A-D)*(A-B)) / (AD*AB)\n",
    "    den    = c*c-v*v\n",
    "    xc     = AD*cos(alpha) - sqrt(AD*AD*c*c*(c*c-v*v)*(cos(alpha)**2-1))/den\n",
    "    print(\"xc:\", xc)\n",
    "    TT, XtoA, XtoB, BtoA, BtoB, PHItoA, PHItoB = [], [], [], [], [], [], []\n",
    "    \n",
    "    for iii,t in enumerate(times):\n",
    "        x      = v*t\n",
    "        r      = x/AB\n",
    "        X      = array( [ (1-r)*A[0]+r*B[0], (1-r)*A[1]+r*B[1], (1-r)*A[2]+r*B[2] ] )\n",
    "        AX     = x\n",
    "        k      = sqrt(AD**2+AX**2-2*AD*AX*cos(alpha)) #LA.norm(D-X)\n",
    "        tt     = t + k/c\n",
    "        xtermA = c*c*tt*v - AD*v*v*cos(alpha) \n",
    "        xtermB = v*v*( (c*tt*v)**2 + (AD*v*cos(alpha))**2 + (AD*c)**2 - (AD*v)**2 - 2*c*c*AD*tt*v*cos(alpha) )\n",
    "        vtermA = c*c*v**3*(tt*v - AD*cos(alpha))\n",
    "        xa,xb  = (xtermA + sqrt(xtermB))/den , (xtermA - sqrt(xtermB))/den\n",
    "        TT.append(tt)\n",
    "        XtoA.append(xa)\n",
    "        XtoB.append(xb)\n",
    "        if ((iii+1)%20000==0):\n",
    "            print(x,xa,xb,sep='\\t')\n",
    "        #    print(x,t,tt,xa,xb,Xa,Xb,sep='\\t')#va,vb,ka,kb,phia,phib,sep='\\t')\n",
    "    "
   ]
  },
  {
   "cell_type": "code",
   "execution_count": null,
   "metadata": {},
   "outputs": [],
   "source": [
    "argmin(TT)"
   ]
  },
  {
   "cell_type": "code",
   "execution_count": null,
   "metadata": {},
   "outputs": [],
   "source": [
    "        va,vb  = (c*c*v + vtermA/sqrt(xtermB))/den, (c*c*v - vtermA/sqrt(xtermB))/den\n",
    "\n",
    "        ra,rb  = xa/AB, xb/AB\n",
    "        \n",
    "        Xa     = array([ (1-ra)*A[0] + ra*B[0] , (1-ra)*A[1] + ra*B[1] , (1-ra)*A[2]+ra*B[2] ])\n",
    "        Xb     = array([ (1-rb)*A[0] + rb*B[0] , (1-rb)*A[1] + rb*B[1] , (1-rb)*A[2]+rb*B[2] ])\n",
    "        \n",
    "        ka,kb  = LA.norm(D-Xa) , LA.norm(D-Xb)\n",
    "        phia   = arccos ( sum((D-A)*(D-Xa)) / (AD*ka) )\n",
    "        phib   = arccos ( sum((D-A)*(D-Xb)) / (AD*kb) )\n",
    "        betaa  = arccos ( sum((D-Xa)*(B-Xa)) / (ka*LA.norm(B-Xa)) )\n",
    "        betab  = arccos ( sum((D-Xb)*(B-Xb)) / (kb*LA.norm(B-Xb)) )\n",
    "        \n",
    "        vta      = va * sin(betaa)\n",
    "        vtb      = vb * sin(betab)\n",
    "        omegaa   = (vta / ka)\n",
    "        omegab   = (vtb / kb)\n",
    "        brighta  = abs(omegaa / (ka**2))\n",
    "        brightb  = abs(omegab / (kb**2))\n",
    "        \n",
    "        XtoA.append(xa)\n",
    "        XtoB.append(xb)\n",
    "        BtoA.append(brighta)\n",
    "        BtoB.append(brightb)\n",
    "        PHItoA.append(rad2deg(phia))\n",
    "        PHItoB.append(rad2deg(phib))\n",
    "        TT.append(tt*1e9)\n",
    "        \n",
    "        #if ((iii+1)%20000==0):\n",
    "        #    print(c,v,t,x,tt,sep='\\t'\n",
    "        #    print(x,t,tt,xa,xb,Xa,Xb,sep='\\t')#va,vb,ka,kb,phia,phib,sep='\\t')\n",
    "        \n",
    "    #rc  = xc/nAB\n",
    "    #Xc  = array([ (1-rc)*A[0] + rc*B[0] , (1-rc)*A[1] + rc*B[1] , (1-rc)*A[2]+rc*B[2] ])\n",
    "    #PHI = arccos( sum((D-Xc)*(D-A))  / (LA.norm(D-Xc)*LA.norm(D-A)) ) ; PHI = rad2deg(PHI)\n",
    "\n",
    "    #print(\"PHI: \",round(rad2deg(PHI),2), \"XC: \", round(xc,2))\n",
    "    XtoA, XtoB, TT, BtoA, BtoB, PHItoA, PHItoB = array(XtoA), array(XtoB), array(TT), array(BtoA), array(BtoB), array(PHItoA), array(PHItoB)\n",
    "        \n",
    "    cona = [(XtoA>=0) & (XtoA<=AB)]\n",
    "    conb = [(XtoB>=0) & (XtoB<=AB)]\n",
    "    alen = len (XtoA[cona])\n",
    "    blen = len (XtoB[conb])\n",
    "    print(alen, blen)\n",
    "    if det_num==1:\n",
    "        den_bright = entry_brightness(AD,alpha,c,v,den,A,B,D)\n",
    "    \n",
    "    if alen == 0:\n",
    "        if blen == 0:\n",
    "            print(\"Images outside tank. Skipping...\")\n",
    "        else:\n",
    "            print('Only image moving forward towards B. Processing...')\n",
    "            TTb, XtoB, BtoB, PHItoB = TT[conb], XtoB[conb], BtoB[conb]/den_bright, PHItoB[conb]\n",
    "            if   plotme=='b vs phi': Bphib (x=PHItoB, y=BtoB  , color=color, mylabel=mylabel)\n",
    "            elif plotme=='t vs b'  : Btb   (x=TTb   , y=BtoB  , color=color, mylabel=mylabel)\n",
    "            elif plotme=='t vs phi': Btphi (x=TTb   , y=PHItoB, color=color, mylabel=mylabel)\n",
    "            elif plotme=='t vs x'  : Btx   (x=TTb   , y=XtoB  , color=color, mylabel=mylabel)\n",
    "    \n",
    "    elif alen != 0:\n",
    "        if blen == 0:\n",
    "            print('Only image moving back towards A. Processing...')\n",
    "            TTa, XtoA, BtoA, PHItoA = TT[cona], XtoA[cona], BtoA[cona]/den_bright, PHItoA[cona]\n",
    "            if   plotme=='b vs phi': Aphib  (x=PHItoA, y=BtoA  , color=color, mylabel=mylabel)\n",
    "            elif plotme=='t vs b'  : Atb    (x=TTa   , y=BtoA  , color=color, mylabel=mylabel)\n",
    "            elif plotme=='t vs phi': Atphi  (x=TTa   , y=PHItoA, color=color, mylabel=mylabel)\n",
    "            elif plotme=='t vs x'  : Atx    (x=TTa   , y=XtoA  , color=color, mylabel=mylabel)\n",
    "        else:\n",
    "            print('Both images moving in both directions. Processing...')\n",
    "            TTa,XtoA,BtoA,PHItoA = TT[cona],XtoA[cona],BtoA[cona]/den_bright,PHItoA[cona]\n",
    "            TTb,XtoB,BtoB,PHItoB = TT[conb],XtoB[conb],BtoB[conb]/den_bright,PHItoB[conb]\n",
    "            if   plotme=='b vs phi': ABphib  (xa=PHItoA, ya=BtoA  , xb=PHItoB, yb=BtoB  , color=color, mylabel=mylabel)\n",
    "            elif plotme=='t vs b'  : ABtb    (xa=TTa   , ya=BtoA  , xb=TTb   , yb=BtoB  , color=color, mylabel=mylabel)\n",
    "            elif plotme=='t vs phi': ABtphi  (xa=TTa   , ya=PHItoA, xb=TTb   , yb=PHItoB, color=color, mylabel=mylabel)\n",
    "            elif plotme=='t vs x'  : ABtx    (xa=TTa   , ya=XtoA  , xb=TTb   , yb=XtoB  , color=color, mylabel=mylabel)\n",
    "   # break\n",
    "plt.legend() #loc='upper right', prop={'size': 14})\n",
    "plt.tick_params(axis='both', direction='in', labelsize=18)\n",
    "plt.show()"
   ]
  },
  {
   "cell_type": "code",
   "execution_count": null,
   "metadata": {},
   "outputs": [],
   "source": []
  },
  {
   "cell_type": "code",
   "execution_count": null,
   "metadata": {},
   "outputs": [],
   "source": []
  },
  {
   "cell_type": "code",
   "execution_count": null,
   "metadata": {},
   "outputs": [],
   "source": []
  },
  {
   "cell_type": "raw",
   "metadata": {},
   "source": [
    "# phi vs t\n",
    "plt.xlabel('time since muon entry (ns)',fontsize=18)\n",
    "plt.ylabel(r'angular locations $\\phi_{pm}\\;(in\\;degrees)$', fontsize=18)\n",
    "plt.xticks(arange(10,37,2))\n",
    "plt.xlim(10.02,36.07)\n",
    "\n",
    "# b vs t\n",
    "plt.xlabel('time since muon entry (ns)',fontsize=18)\n",
    "plt.ylabel('relative brightness ($b/b_{entry}$)', fontsize=18) \n",
    "plt.xticks(arange(11,38,2))\n",
    "plt.yscale('log')\n",
    "plt.xlim(10.02,36.07)\n",
    "plt.ylim(0.34,286.5)\n",
    "\n",
    "# b vs phi\n",
    "plt.xlabel(r'angular locations $\\phi_{pm}\\;(in\\;degrees)$',fontsize=18)\n",
    "plt.ylabel(r'relative brightness ($b/b_{entry}$)', fontsize=18) \n",
    "plt.yscale('log')\n",
    "\n",
    "# z vs t\n",
    "plt.xlabel('time since muon entry (ns)',fontsize=18)\n",
    "plt.ylabel(r'image heights $z_{pm} (in\\;meters)$'     , fontsize=18).set_rotation(90)\n",
    "plt.xticks(arange(10,38,2))\n",
    "plt.ylim(-0.02,limit)\n",
    "plt.xlim(9.99,36.07)"
   ]
  }
 ],
 "metadata": {
  "kernelspec": {
   "display_name": "Python 3",
   "language": "python",
   "name": "python3"
  },
  "language_info": {
   "codemirror_mode": {
    "name": "ipython",
    "version": 3
   },
   "file_extension": ".py",
   "mimetype": "text/x-python",
   "name": "python",
   "nbconvert_exporter": "python",
   "pygments_lexer": "ipython3",
   "version": "3.7.4"
  }
 },
 "nbformat": 4,
 "nbformat_minor": 4
}
