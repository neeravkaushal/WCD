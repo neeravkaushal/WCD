{
 "cells": [
  {
   "cell_type": "code",
   "execution_count": 2,
   "metadata": {},
   "outputs": [
    {
     "name": "stdout",
     "output_type": "stream",
     "text": [
      "First RID location =  4.15 km\n",
      "Ground Brightness: 299.79246174535587\n"
     ]
    }
   ],
   "source": [
    "# Import necessary libraries\n",
    "import numpy as np, matplotlib.pyplot as plt, warnings\n",
    "warnings.simplefilter('ignore')\n",
    "\n",
    "# Initializations\n",
    "c      = 299792458/1.00029\n",
    "h      = 25000\n",
    "L      = 100\n",
    "v      = 1.00029 * c\n",
    "times  = np.linspace(1e-6,1e-4,500000,endpoint=True)\n",
    "T      = []\n",
    "Z1, Z2 = [], []\n",
    "B1, B2 = [], []\n",
    "\n",
    "\n",
    "# Print the height of first RID\n",
    "zc     = (c*L)/np.sqrt(v*v - c*c)\n",
    "print(r'First RID location = ', round(zc/1000,2), 'km')\n",
    "\n",
    "\n",
    "# Computations\n",
    "for t in times:\n",
    "    \n",
    "    z  = h - v*t\n",
    "    tt = t + np.sqrt(L*L+z*z)/c\n",
    "\n",
    "    num1 = (c*c*tt*v - c*c*h)\n",
    "    num2 = np.sqrt((c*c*v*v*h*h) - (2*h*tt*c*c*v*v*v) + (L*L*c*c*v*v) + (c*c*tt*tt*v*v*v*v) - (L*L*v*v*v*v))\n",
    "    den  = (v*v - c*c)\n",
    "    \n",
    "    z1 = (num1+num2)/den\n",
    "    z2 = (num1-num2)/den\n",
    "    \n",
    "    v1   = ( ( (c*c*v*v*(2*tt*v*v - 2*h*v)) / (2*np.sqrt(c*c*v*v*(h*h+L*L+tt*tt*v*v-2*h*tt*v)-(L*L*v*v*v*v)   )) ) + (c*c*v) ) / (v*v - c*c)\n",
    "    v2   = (-( (c*c*v*v*(2*tt*v*v - 2*h*v)) / (2*np.sqrt(c*c*v*v*(h*h+L*L+tt*tt*v*v-2*h*tt*v)-(L*L*v*v*v*v)   )) ) + (c*c*v) ) / (v*v - c*c)\n",
    "\n",
    "    phi1 = np.arctan(z1/L)\n",
    "    phi2 = np.arctan(z2/L)\n",
    "    \n",
    "    v1t  = v1*np.cos(phi1)\n",
    "    v2t  = v2*np.cos(phi2)\n",
    "    \n",
    "    omega1 = v1t/(np.sqrt(L*L + z1*z1))\n",
    "    omega2 = v2t/(np.sqrt(L*L + z2*z2))\n",
    "\n",
    "    b1   = abs(omega1/((L*L + z1*z1)))\n",
    "    b2   = abs(omega2/((L*L + z2*z2)))\n",
    "    \n",
    "    #b1 = abs(b1)\n",
    "    #b2 = abs(b2)\n",
    "\n",
    "    if (z2<=0):\n",
    "        break\n",
    "    else:\n",
    "        T .append(tt)\n",
    "        Z1.append(z1)\n",
    "        Z2.append(z2)\n",
    "        B1.append(b1)\n",
    "        B2.append(b2)\n",
    "  \n",
    "\n",
    "        \n",
    "T  = np.array(T )\n",
    "Z1 = np.array(Z1)\n",
    "Z2 = np.array(Z2)\n",
    "B1 = np.array(B1)\n",
    "B2 = np.array(B2)\n",
    "\n",
    "T.shape[0]\n",
    "\n",
    "def ground_brightness(tt, z2=0, phi=0):\n",
    "    num1   = (c*c*tt*v - c*c*h)\n",
    "    num2   = np.sqrt((c*c*v*v*h*h) - (2*h*tt*c*c*v*v*v) + (L*L*c*c*v*v) + (c*c*tt*tt*v*v*v*v) - (L*L*v*v*v*v))\n",
    "    den    = (v*v - c*c)\n",
    "    z2     = (num1-num2)/den\n",
    "    v2     = (-( (c*c*v*v*(2*tt*v*v - 2*h*v)) / (2*np.sqrt(c*c*v*v*(h*h+L*L+tt*tt*v*v-2*h*tt*v)-(L*L*v*v*v*v)   )) ) + (c*c*v) ) / (v*v - c*c)\n",
    "    phi2 = np.arctan(z2/L)\n",
    "    b2     = (v2*np.cos(phi2))/ ((L*L + z2*z2)**(3/2))\n",
    "    b2     = abs(b2)\n",
    "    return b2\n",
    "\n",
    "Bg = ground_brightness(((h/v)+(L/c)), 0, 0)\n",
    "print('Ground Brightness:', Bg)\n",
    "Z1n = Z1/1000\n",
    "Z2n = Z2/1000\n",
    "B1  = B1\n",
    "B2  = B2\n",
    "Tn   = T * 1e+9\n",
    "TT   = Tn-Tn.min()"
   ]
  },
  {
   "cell_type": "markdown",
   "metadata": {},
   "source": [
    "## $z_{\\pm}\\;vs\\;t$  "
   ]
  },
  {
   "cell_type": "code",
   "execution_count": null,
   "metadata": {},
   "outputs": [],
   "source": [
    "plt.figure(figsize=(10,6))\n",
    "plt.plot(TT         , Z1n, c='k')\n",
    "plt.plot(TT[Z1n<=25], Z2n[Z1n<=25], c='k')\n",
    "plt.axhline(zc/1000, ls='--',c='k')\n",
    "\n",
    "plt.xlabel(r'time $( t_{total} - t_{min} )$ (ns)', fontsize=28)\n",
    "plt.ylabel(r'image height $z_{\\pm}$ (km)', fontsize=28)\n",
    "plt.ylim(0,25)\n",
    "plt.xlim(0,20)\n",
    "plt.show()"
   ]
  },
  {
   "cell_type": "markdown",
   "metadata": {},
   "source": [
    "## $B \\;vs\\; z_{\\pm}$ "
   ]
  },
  {
   "cell_type": "code",
   "execution_count": null,
   "metadata": {},
   "outputs": [],
   "source": [
    "plt.figure(figsize=(10,6))\n",
    "plt.plot(Z2n, B2, c='k')\n",
    "plt.plot(Z1n[Z1n<=25], B1[Z1n<=25], c='k')\n",
    "plt.axvline(zc/1000, ls='--',c='k')\n",
    "\n",
    "plt.xlabel(r'image height $z_{\\pm}$ (km)', fontsize=28)\n",
    "plt.ylabel(r'brightness ($b/b_{ground}$) ', fontsize=28)\n",
    "\n",
    "plt.yscale('log')\n",
    "#plt.ylim(2e-7,10)\n",
    "\n",
    "plt.text(4.400,1e-5,r'z = $z_c$', fontsize=23)\n",
    "plt.text(22.000, 3.8 , r'$h$ = 25 km'     , fontsize=20)\n",
    "plt.text(22.000, 1.6 , r'$L$ = 0.1 km', fontsize=20)\n",
    "plt.text(22.000, 0.6 , r'$z_c$ = 4.15 km', fontsize=20)\n",
    "\n",
    "plt.tick_params(axis='both', direction='in', labelsize=22)"
   ]
  },
  {
   "cell_type": "markdown",
   "metadata": {},
   "source": [
    "## $B \\;vs\\; t$  "
   ]
  },
  {
   "cell_type": "code",
   "execution_count": null,
   "metadata": {},
   "outputs": [],
   "source": [
    "plt.figure(figsize=(10,6))\n",
    "plt.plot(TT[Z1n<=25], B1[Z1n<=25], 'k:',label='image going up'  )  #---- B = B1+B2\n",
    "plt.plot(TT[Z1n<=25], B2[Z1n<=25], 'k' ,label='image going down')\n",
    "\n",
    "plt.xlabel(r'time $( t_{total} - t_{min} )$ (ns)', fontsize=28)\n",
    "plt.ylabel(r'brightness ($b/b_{ground}$) ', fontsize=28)\n",
    "plt.text(1, 3 , r'$h$ = 25 km'     , fontsize=20)\n",
    "plt.text(1, 1.3 , r'$L$ = 0.1 km', fontsize=20)\n",
    "plt.text(1, 0.5 , r'$z_c$ = 4.15 km', fontsize=20)\n",
    "plt.text(1, 0.2 , r'$t_{min}$ = 83399.06 ns' , fontsize=20)\n",
    "plt.ylim(2e-7,10)\n",
    "plt.yscale('log')\n",
    "plt.legend(prop={'size':20})\n",
    "plt.tick_params(axis='both', direction='in', labelsize=22)\n",
    "plt.show()"
   ]
  }
 ],
 "metadata": {
  "kernelspec": {
   "display_name": "Python 3",
   "language": "python",
   "name": "python3"
  },
  "language_info": {
   "codemirror_mode": {
    "name": "ipython",
    "version": 3
   },
   "file_extension": ".py",
   "mimetype": "text/x-python",
   "name": "python",
   "nbconvert_exporter": "python",
   "pygments_lexer": "ipython3",
   "version": "3.7.4"
  }
 },
 "nbformat": 4,
 "nbformat_minor": 4
}
