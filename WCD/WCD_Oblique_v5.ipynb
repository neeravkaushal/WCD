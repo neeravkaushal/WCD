{
 "cells": [
  {
   "cell_type": "markdown",
   "metadata": {},
   "source": [
    "## Initializations "
   ]
  },
  {
   "cell_type": "code",
   "execution_count": null,
   "metadata": {
    "jupyter": {
     "source_hidden": true
    }
   },
   "outputs": [],
   "source": [
    "import matplotlib.pyplot as plt\n",
    "from numpy import sin, cos, sqrt, pi, linspace, arange, deg2rad, rad2deg, array, arcsin, arccos,sort, argsort, argwhere, argmin, argmax, interp, concatenate\n",
    "from scipy.spatial import distance\n",
    "\n",
    "def sec(x):\n",
    "    return 1/cos(x)\n",
    "def tan(x):\n",
    "    return sin(x)/cos(x)\n",
    "\n",
    "# Define Constants\n",
    "#n  = 1.33          #------------- refractive index of water\n",
    "#c  = 299792458/n   #------------- light velocity in water\n",
    "#v  = n * c         #------------- particle velocity in water\n",
    "#h  = 4.5   #--------------------- water level OR height of medium\n",
    "D  = 7.3   #--------------------- diameter of tank\n",
    "R  = 7.3/2 #--------------------- radius of tank\n",
    "\n",
    "#c      = 299792458/1.00029\n",
    "#h      = 25000\n",
    "#L      = 100\n",
    "#v      = 1.00029 * c\n",
    "#times  = linspace(1e-6,1e-4,500000,endpoint=True)\n",
    "\n",
    "# Coordinates of 4 PMTs\n",
    "c1 = (0, 0, 0)  #------------------------------------ Central    PMT number 1 \n",
    "c2 = (1.85*cos(2*pi/3) , 1.85*sin(2*pi/3), 0) #------ Non-Radial PMT number 2\n",
    "c3 = (1.85*cos(4*pi/3) , 1.85*sin(4*pi/3), 0) #------ Non-Radial PMT number 3\n",
    "c4 = (1.85*cos(0     ) , 1.85*sin(0     ), 0) #------ Radial     PMT number 4\n",
    "\n",
    "#times  = linspace(1e-10, 1e-7, 200000, endpoint=True) #------------ time range"
   ]
  },
  {
   "cell_type": "code",
   "execution_count": null,
   "metadata": {
    "jupyter": {
     "source_hidden": true
    }
   },
   "outputs": [],
   "source": [
    "%matplotlib\n",
    "\n",
    "#============================================================================================\n",
    "case   = 2  #----- Oblique = 1  ;  Vertical at centre = 2  ;  Vertical not at centre = 3    |\n",
    "plotme = 'b vs t' #------ 'x vs t'                                                          |\n",
    "#============================================================================================\n",
    "\n",
    "print('======================================')\n",
    "\n",
    "# Initializing Conditions\n",
    "\n",
    "if case==1:\n",
    "    x1,y1 = (1,1) #------------Coordinates of particle at top tanker lid\n",
    "    theta = 120   #------------Zenith  varies from 90 to 180\n",
    "    phi   = 57    #------------Azimuth varies from  0 to 360\n",
    "elif case==2:\n",
    "    x1,y1 = (1,1)\n",
    "    theta = 35\n",
    "    phi   = 0\n",
    "elif case==3:\n",
    "    x1,y1 = (2,3)\n",
    "    theta = 180\n",
    "    phi   = 0\n",
    "\n",
    "\n",
    "theta = deg2rad(theta) #---Convert zenith to radians\n",
    "phi   = deg2rad(phi  ) #---Convert azimuth to radians\n",
    "\n",
    "# Calculate bottom coordinates of particle\n",
    "x2 = x1 + h * tan(theta) * cos(phi)\n",
    "y2 = y1 + h * tan(theta) * sin(phi)\n",
    "cp = (x2,y2,0)\n",
    "print('Top    coordinates of particle  :' , (x1,y1,h))\n",
    "print('Bottom coordinates of particle  : ', cp     )\n",
    "\n",
    "# Calculate the distances of the point where the particle hits the bottom of tank from the 4 PMTs\n",
    "d1 = distance.euclidean(cp,c1)\n",
    "d2 = distance.euclidean(cp,c2)\n",
    "d3 = distance.euclidean(cp,c3)\n",
    "d4 = distance.euclidean(cp,c4)\n",
    "\n",
    "print('Particle distances from PMTs    : {} m,   {} m,   {} m,   {} m'.format( round(d1,3),round(d2,3),round(d3,3),round(d4,3)))"
   ]
  },
  {
   "cell_type": "markdown",
   "metadata": {},
   "source": [
    "### Try with atmosphere or water "
   ]
  },
  {
   "cell_type": "code",
   "execution_count": 1,
   "metadata": {},
   "outputs": [],
   "source": [
    "import matplotlib.pyplot as plt\n",
    "from numpy import sin, cos, sqrt, pi, linspace, arange, deg2rad, rad2deg, array, arcsin, arccos,sort, argsort, argwhere, argmin, argmax, interp, concatenate\n",
    "from scipy.spatial import distance\n",
    "import warnings\n",
    "warnings.simplefilter('ignore')\n",
    "\n",
    "def sec(x):\n",
    "    return 1/cos(x)\n",
    "def tan(x):\n",
    "    return sin(x)/cos(x)"
   ]
  },
  {
   "cell_type": "code",
   "execution_count": 9,
   "metadata": {},
   "outputs": [
    {
     "name": "stdout",
     "output_type": "stream",
     "text": [
      "Top    coordinates of particle  : (1, 1, 4.5)\n",
      "Bottom coordinates of particle  :  (0.6594684993387001, -0.6020747512370324, 0)\n",
      "Particle distances from PMTs    : 0.893 m,   2.715 m,   1.874 m,   1.334 m\n"
     ]
    }
   ],
   "source": [
    "case  = 'wat'\n",
    "\n",
    "\n",
    "if case=='atm':\n",
    "    theta  = 0\n",
    "    n      = 1.00029\n",
    "    c      = 299792458/n\n",
    "    h      = 25000\n",
    "    L      = 100\n",
    "    v      = n * c\n",
    "    times  = linspace(1e-6,1e-4,100000,endpoint=True)\n",
    "    \n",
    "elif case=='wat':\n",
    "    n      = 1.33\n",
    "    c      = 299792458/n\n",
    "    h      = 4.5\n",
    "    D      = 7.3   #--------------------- diameter of tank\n",
    "    R      = 7.3/2 #--------------------- radius of tank\n",
    "    #L      = 0.001\n",
    "    v      = n * c\n",
    "    times  = linspace(1e-10,1e-7,100000)\n",
    "    \n",
    "    c1     = (0, 0, 0)  #------------------------------------ Central    PMT number 1 \n",
    "    c2     = (1.85*cos(2*pi/3) , 1.85*sin(2*pi/3), 0) #------ Non-Radial PMT number 2\n",
    "    c3     = (1.85*cos(4*pi/3) , 1.85*sin(4*pi/3), 0) #------ Non-Radial PMT number 3\n",
    "    c4     = (1.85*cos(0     ) , 1.85*sin(0     ), 0) #------ Radial     PMT number 4\n",
    "    x1,y1  = (1,1) #----------------------------------------- Coordinates of particle at top tanker lid\n",
    "    theta  = 160   #----------------------------------------- Zenith  varies from 90 to 180\n",
    "    phi    = 78    #----------------------------------------- Azimuth varies from  0 to 360\n",
    "    theta  = deg2rad(theta) #-------------------------------- Convert zenith to radians\n",
    "    phi    = deg2rad(phi  ) #-------------------------------- Convert azimuth to radians\n",
    "\n",
    "    x2     = x1 + h * tan(theta) * cos(phi) # ------------------- Calculate bottom x coordinate\n",
    "    y2     = y1 + h * tan(theta) * sin(phi) #-------------------- Calculate bottom y coordinate\n",
    "    cp     = (x2,y2,0)\n",
    "    print('Top    coordinates of particle  :' , (x1,y1,h))\n",
    "    print('Bottom coordinates of particle  : ', cp     )\n",
    "\n",
    "    d1     = distance.euclidean(cp,c1)  #------------------------ Calculate the distances of the point \n",
    "    d2     = distance.euclidean(cp,c2)  #------------------------ where the particle hits the bottom of \n",
    "    d3     = distance.euclidean(cp,c3)  #------------------------ the tank from the 4 PMTs\n",
    "    d4     = distance.euclidean(cp,c4)\n",
    "    theta2    = pi - theta\n",
    "    del theta\n",
    "    theta     = theta2\n",
    "    print('Particle distances from PMTs    : {} m,   {} m,   {} m,   {} m'.format( round(d1,3),round(d2,3),round(d3,3),round(d4,3)))"
   ]
  },
  {
   "cell_type": "code",
   "execution_count": 26,
   "metadata": {},
   "outputs": [
    {
     "name": "stdout",
     "output_type": "stream",
     "text": [
      "Using matplotlib backend: Qt5Agg\n",
      "First RID Height: 1.1862287717528184 m\n",
      "First RID Height: 3.6061231083066723 m\n",
      "First RID Height: 2.489019223136049 m\n",
      "First RID Height: 1.7722506934515843 m\n"
     ]
    }
   ],
   "source": [
    "%matplotlib\n",
    "plt.figure()\n",
    "\n",
    "for ds,color in zip([d1,d2,d3,d4], ['r','b','g','c']):\n",
    "\n",
    "    T, ZP, ZM, BP, BM = [], [], [], [], []\n",
    "    L      = ds\n",
    "    num_zc = -sqrt(-c**4 * L**2 * cos(theta)**2 + c**2 * L**2 * v**2 * cos(theta)**2) + c**2*L*sin(theta) - L*v**2*sin(theta)\n",
    "    den    = (c**2-v**2)\n",
    "    zc     = (num_zc/den)\n",
    "    zc_act = zc * cos(theta)\n",
    "    print('First RID Height: {} m'.format(zc_act))\n",
    "\n",
    "    for iii,t in enumerate(times):\n",
    "\n",
    "        z        = h/cos(theta) - v*t\n",
    "        k        = (sqrt( L**2 + z**2 - 2*z*L*cos(pi/2-theta)))\n",
    "        t_shower = t\n",
    "        t_light  = k/c\n",
    "        t_total  = t_shower + t_light\n",
    "        tt       = t_total\n",
    "\n",
    "        num1_z   = -c**2*tt*v + c**2*h*sec(theta) - L*v**2*sin(theta)\n",
    "        num2_z   = sqrt(v**2* ( c*c*L*L - L*L*v*v + c*c*tt*tt*v*v - 2*c*c*h*tt*v*sec(theta) + c*c*h*h*sec(theta)**2 + 2*c*c*L*tt*v*sin(theta) + L*L*v*v*sin(theta)**2 - 2*c*c*h*L*tan(theta)))\n",
    "\n",
    "        zp       = ((num1_z - num2_z) / den)\n",
    "        zm       = ((num1_z + num2_z) / den)\n",
    "\n",
    "        v_A      = v*v*(tt*v-h*sec(theta)+L*sin(theta))\n",
    "        v_B      = num2_z\n",
    "\n",
    "        vp       = (c*c*v) * (1+(v_A/v_B)) / (-den)\n",
    "        vm       = (c*c*v) * (-1+(v_A/v_B)) / den        \n",
    "\n",
    "        kp       = sqrt( L**2 + zp**2 - 2*zp*L*cos(pi/2-theta))\n",
    "        km       = sqrt( L**2 + zm**2 - 2*zm*L*cos(pi/2-theta))\n",
    "\n",
    "        alphap   = (arccos( (zp*zp + kp*kp - L*L) / (2*zp*kp) ))\n",
    "        alpham   = (arccos( (zm*zm + km*km - L*L) / (2*zm*km) ))\n",
    "\n",
    "        vtp      = vp * sin(alphap)\n",
    "        vtm      = vm * sin(alpham)\n",
    "\n",
    "        omegap   = (vtp / kp)\n",
    "        omegam   = (vtm / km)\n",
    "\n",
    "        bp       = abs(omegap / (kp**2))\n",
    "        bm       = abs(omegam / (km**2))\n",
    "\n",
    "        if (zm*cos(theta)<=0):\n",
    "            pass\n",
    "        ZM.append(zm*cos(theta)) # TAKE CARE OF THIS\n",
    "        ZP.append(zp*cos(theta)) # TAKE CARE OF THIS\n",
    "        BM.append(bm)            \n",
    "        BP.append(bp)            \n",
    "        T.append(tt)\n",
    "\n",
    "    ZP, ZM, T, BP, BM = array(ZP), array(ZM), array(T), array(BP), array(BM)\n",
    "    Z1n = ZP\n",
    "    Z2n = ZM\n",
    "    Tn  = T * 1e+9\n",
    "    TT  = (Tn-Tn.min())\n",
    "\n",
    "    plt.plot(TT[Z1n<=h*cos(theta)], Z1n[Z1n<=h*cos(theta)], c=color, ls=':', label=r'$L = %f$'%round(L))  #---- B = B1+B2\n",
    "    plt.plot(TT[Z1n<=h*cos(theta)], Z2n[Z1n<=h*cos(theta)], c=color, ls='-' )\n",
    "    plt.axhline(zc_act, c='k', ls='--')\n",
    "    plt.ylim(0,h)\n",
    "    plt.text(2.4, round(zc_act,2)+0.1, r'$z_c = {}$'.format(round(zc_act,2)), fontsize=12)\n",
    "    plt.xlabel(r'time $( t_{total} - t_{min} )$ (ns)', fontsize=16)\n",
    "    plt.ylabel(r'image height $z_{\\pm}$ (m)'         , fontsize=16).set_rotation(90)\n",
    "    #plt.title (r'Oblique Incidence: Entering at ($x,y,\\theta,\\phi$)')\n",
    "\n",
    "#plt.yscale('log')\n",
    "plt.legend()\n",
    "plt.show()"
   ]
  },
  {
   "cell_type": "code",
   "execution_count": null,
   "metadata": {},
   "outputs": [],
   "source": []
  }
 ],
 "metadata": {
  "kernelspec": {
   "display_name": "Python 3",
   "language": "python",
   "name": "python3"
  },
  "language_info": {
   "codemirror_mode": {
    "name": "ipython",
    "version": 3
   },
   "file_extension": ".py",
   "mimetype": "text/x-python",
   "name": "python",
   "nbconvert_exporter": "python",
   "pygments_lexer": "ipython3",
   "version": "3.7.4"
  }
 },
 "nbformat": 4,
 "nbformat_minor": 4
}
