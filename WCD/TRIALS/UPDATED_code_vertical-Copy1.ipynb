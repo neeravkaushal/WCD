{
 "cells": [
  {
   "cell_type": "markdown",
   "metadata": {},
   "source": [
    "## Import Libraries"
   ]
  },
  {
   "cell_type": "code",
   "execution_count": 1,
   "metadata": {},
   "outputs": [],
   "source": [
    "import matplotlib.pyplot as plt\n",
    "from numpy import sin, cos, sqrt, pi, linspace, arange, deg2rad, rad2deg, array, arcsin, arccos,sort, argsort, argwhere, argmin, argmax, interp, concatenate\n",
    "from scipy.spatial import distance\n",
    "import warnings\n",
    "warnings.simplefilter('ignore')\n",
    "\n",
    "def sec(x):\n",
    "    return 1/cos(x)\n",
    "def tan(x):\n",
    "    return sin(x)/cos(x)"
   ]
  },
  {
   "cell_type": "markdown",
   "metadata": {},
   "source": [
    "## Initialize Parameters "
   ]
  },
  {
   "cell_type": "code",
   "execution_count": 2,
   "metadata": {},
   "outputs": [
    {
     "name": "stdout",
     "output_type": "stream",
     "text": [
      "A = (1.5, 1.5, 4.5)\n",
      "B = (1.4999999999999996, 1.5, 0)\n",
      "Particle distances from PMTs    : 2.121 m,   2.427 m,   3.938 m,   1.54 m\n"
     ]
    }
   ],
   "source": [
    "case  = 'wat'\n",
    "\n",
    "\n",
    "if case=='atm':\n",
    "    theta  = 0\n",
    "    n      = 1.00029\n",
    "    c      = 299792458/n\n",
    "    h      = 25000\n",
    "    L      = 100\n",
    "    v      = n * c\n",
    "    times  = linspace(1e-6,1e-4,100000,endpoint=True)\n",
    "    \n",
    "elif case=='wat':\n",
    "    n      = 1.33\n",
    "    c      = 299792458/n\n",
    "    h      = 4.5\n",
    "    D      = 7.3   #--------------------- diameter of tank\n",
    "    R      = 7.3/2 #--------------------- radius of tank\n",
    "    v      = n * c\n",
    "    times  = linspace(1e-10,1e-7,200000)\n",
    "    \n",
    "    c1     = (0, 0, 0)  #------------------------------------ Central    PMT number 1 \n",
    "    c2     = (1.85*cos(2*pi/3) , 1.85*sin(2*pi/3), 0) #------ Non-Radial PMT number 2\n",
    "    c3     = (1.85*cos(4*pi/3) , 1.85*sin(4*pi/3), 0) #------ Non-Radial PMT number 3\n",
    "    c4     = (1.85*cos(0     ) , 1.85*sin(0     ), 0) #------ Radial     PMT number 4\n",
    "    x1,y1  = (1.5,1.5) #----------------------------------------- Coordinates of particle at top tanker lid      #------PARAM\n",
    "    theta  = 180   #----------------------------------------- Zenith  varies from 90 to 180                    #------PARAM\n",
    "    phi    = 0    #----------------------------------------- Azimuth varies from  0 to 360                    #------PARAM\n",
    "    theta  = deg2rad(theta) #-------------------------------- Convert zenith to radians\n",
    "    phi    = deg2rad(phi  ) #-------------------------------- Convert azimuth to radians\n",
    "\n",
    "    x2     = x1 + h * tan(theta) * cos(phi) # ------------------- Calculate bottom x coordinate\n",
    "    y2     = y1 + h * tan(theta) * sin(phi) #-------------------- Calculate bottom y coordinate\n",
    "    cp     = (x2,y2,0)\n",
    "    print('A = {}'.format((x1,y1,h)))\n",
    "    print('B = {}'.format(cp))\n",
    "\n",
    "    d1     = distance.euclidean(cp,c1)  #------------------------ Calculate the distances of the point \n",
    "    d2     = distance.euclidean(cp,c2)  #------------------------ where the particle hits the bottom of \n",
    "    d3     = distance.euclidean(cp,c3)  #------------------------ the tank from the 4 PMTs\n",
    "    d4     = distance.euclidean(cp,c4)\n",
    "    theta2    = pi - theta\n",
    "    del theta\n",
    "    theta     = theta2\n",
    "    print('Particle distances from PMTs    : {} m,   {} m,   {} m,   {} m'.format( round(d1,3),round(d2,3),round(d3,3),round(d4,3)))"
   ]
  },
  {
   "cell_type": "markdown",
   "metadata": {},
   "source": [
    "## Define Entry Brightness "
   ]
  },
  {
   "cell_type": "code",
   "execution_count": 3,
   "metadata": {},
   "outputs": [],
   "source": [
    "def entry_brightness(times,h,c,v,theta,L):\n",
    "    z        = h/cos(theta)\n",
    "    k        = (sqrt( L**2 + z**2 - 2*z*L*cos(pi/2-theta)))\n",
    "    t_shower = times[0]\n",
    "    t_light  = k/c\n",
    "    t_total  = t_shower + t_light\n",
    "    tt       = t_total\n",
    "    den      = (c**2-v**2)\n",
    "    num2_z   = sqrt(v**2* ( c*c*L*L - L*L*v*v + c*c*tt*tt*v*v - 2*c*c*h*tt*v*sec(theta) + c*c*h*h*sec(theta)**2 + 2*c*c*L*tt*v*sin(theta) + L*L*v*v*sin(theta)**2 - 2*c*c*h*L*tan(theta)))\n",
    "    v_A      = v*v*(tt*v-h*sec(theta)+L*sin(theta))\n",
    "    v_B      = num2_z\n",
    "    vp       = (c*c*v) * (1+(v_A/v_B)) / (-den)\n",
    "    vm       = (c*c*v) * (-1+(v_A/v_B)) / den        \n",
    "    kp       = sqrt( L**2 + zp**2 - 2*zp*L*cos(pi/2-theta))\n",
    "    km       = sqrt( L**2 + zm**2 - 2*zm*L*cos(pi/2-theta))\n",
    "    alphap   = (arccos( (zp*zp + kp*kp - L*L) / (2*zp*kp) ))\n",
    "    alpham   = (arccos( (zm*zm + km*km - L*L) / (2*zm*km) ))\n",
    "    vtp      = vp * sin(alphap)\n",
    "    vtm      = vm * sin(alpham)\n",
    "    omegap   = (vtp / kp)\n",
    "    omegam   = (vtm / km)\n",
    "    bp       = abs(omegap / (kp**2))\n",
    "    bm       = abs(omegam / (km**2))\n",
    "    return bp"
   ]
  },
  {
   "cell_type": "code",
   "execution_count": null,
   "metadata": {},
   "outputs": [],
   "source": [
    "%matplotlib\n",
    "#plt.figure(figsize=(12,9))\n",
    "\n",
    "plotme = 'b vs phi'\n",
    "if 'b' in plotme:\n",
    "    ptype = str(input(\"Do you want normalized brightness? (Enter Y/y or N/n)\"))\n",
    "    print()\n",
    "distances = [d1,d2]\n",
    "colors    = ['r','k']\n",
    "detectors = [1,2]\n",
    "\n",
    "for ds, color, detector in zip(distances, colors, detectors):\n",
    "    print(\"==============================================\")\n",
    "    print(\"Processing detector %s\"%detector)\n",
    "    print(\"==============================================\")\n",
    "    \n",
    "    T, ZP, ZM, BP, BM, PHIP, PHIM = [], [], [], [], [], [], []\n",
    "    \n",
    "    #if ds<1e-12:\n",
    "    #    L=0.0\n",
    "    #else:\n",
    "    L      = ds\n",
    "    \n",
    "    num_zc = -sqrt(-c**4 * L**2 * cos(theta)**2 + c**2 * L**2 * v**2 * cos(theta)**2) + c**2*L*sin(theta) - L*v**2*sin(theta)\n",
    "    den    = (c**2-v**2)\n",
    "    zc     = (num_zc/den)\n",
    "    zc_act = zc * cos(theta)\n",
    "    print('First RID Height: {} m'.format(zc_act))\n",
    "\n",
    "    \n",
    "    for iii,t in enumerate(times):\n",
    "        z        = h/cos(theta) - v*t\n",
    "        k        = (sqrt( L**2 + z**2 - 2*z*L*cos(pi/2-theta)))\n",
    "        t_shower = t\n",
    "        t_light  = k/c\n",
    "        t_total  = t_shower + t_light\n",
    "        tt       = t_total\n",
    "\n",
    "        num1_z   = -c**2*tt*v + c**2*h*sec(theta) - L*v**2*sin(theta)\n",
    "        num2_z   = sqrt(v**2* ( c*c*L*L - L*L*v*v + c*c*tt*tt*v*v - 2*c*c*h*tt*v*sec(theta) + c*c*h*h*sec(theta)**2 + 2*c*c*L*tt*v*sin(theta) + L*L*v*v*sin(theta)**2 - 2*c*c*h*L*tan(theta)))\n",
    "        zp       = ((num1_z - num2_z) / den)\n",
    "        zm       = ((num1_z + num2_z) / den)\n",
    "        v_A      = v*v*(tt*v-h*sec(theta)+L*sin(theta))\n",
    "        v_B      = num2_z\n",
    "        vp       = (c*c*v) * (1+(v_A/v_B)) / (-den)\n",
    "        vm       = (c*c*v) * (-1+(v_A/v_B)) / den        \n",
    "        kp       = sqrt( L**2 + zp**2 - 2*zp*L*cos(pi/2-theta))\n",
    "        km       = sqrt( L**2 + zm**2 - 2*zm*L*cos(pi/2-theta))\n",
    "        alphap   = (arccos( (zp*zp + kp*kp - L*L) / (2*zp*kp) ))\n",
    "        alpham   = (arccos( (zm*zm + km*km - L*L) / (2*zm*km) ))\n",
    "        phip     = 90+theta-rad2deg(alphap)\n",
    "        phim     = 90+theta-rad2deg(alpham)   \n",
    "        vtp      = vp * sin(alphap)\n",
    "        vtm      = vm * sin(alpham)\n",
    "        omegap   = (vtp / kp)\n",
    "        omegam   = (vtm / km)\n",
    "        bp       = abs(omegap / (kp**2))\n",
    "        bm       = abs(omegam / (km**2))\n",
    "\n",
    "        ZM.append(zm*cos(theta)) \n",
    "        ZP.append(zp*cos(theta))\n",
    "        BM.append(bm)            \n",
    "        BP.append(bp)\n",
    "        PHIP.append(phip)\n",
    "        PHIM.append(phim)\n",
    "        T.append(tt)\n",
    "        \n",
    "        '''\n",
    "        if (iii==0) or (iii==2000):\n",
    "            \n",
    "            print(\"z:\",z,\"\\nk:\",k,\"\\nt_shower:\",t_shower,\"\\nt_light:\",t_light,\"\\ntt:\",tt,\"\\nzp:\",zp,\"\\nzm:\",zm,\"\\nvp:\",vp,\"\\nvm:\",vm\n",
    "                  ,\"\\nkp:\",kp,\"\\nkm:\",km,\"\\alphap:\",alphap,\"\\nalpham:\",alpham,\"\\nphip:\",phip,\"\\nphim:\",phim,\"\\nvtp:\",vtp,\"\\nvtm:\",vtm,\n",
    "                  \"\\nomegap:\",omegap,\"\\nomegam:\",omegam,\"\\nbp:\",bp,\"\\nbm:\",bm)\n",
    "            #clevbp = bp\n",
    "            #clevbm = bm\n",
    "        '''\n",
    "    ZP, ZM, T, BP, BM, PHIP, PHIM = array(ZP), array(ZM), array(T), array(BP), array(BM), array(PHIP), array(PHIM)\n",
    "    \n",
    "    if detector==1:\n",
    "        entry_bright1 = entry_brightness(T,h,c,v,theta,L)\n",
    "    entry_bright = entry_bright1\n",
    "    \n",
    "    #indicesP = np.argsort(ZP)\n",
    "    #indicesM = np.argsort(ZM)    \n",
    "    #ZP,ZM, BP,BM, PHIP,PHIM, T = ZP[indicesP],ZM[indicesM], BP[indicesP],BM[indicesM], PHIP[indicesP],PHIM[indicesM], T[indicesP]\n",
    "    \n",
    "    Tn  = T * 1e+9\n",
    "    TT  = (Tn-Tn.min())\n",
    "    \n",
    "    if 'b' in plotme:\n",
    "        if ptype==('y' or 'Y'):\n",
    "            print('Entry Brightness:', entry_bright)\n",
    "            BM2 = BM/entry_bright\n",
    "            BP2 = BP/entry_bright\n",
    "        else:\n",
    "            pass\n",
    "    \n",
    "    #if detector==2:\n",
    "    #cond1 = (ZP<=h*cos(theta))\n",
    "    #ZM, ZP, TT, BM, BP, PHIM, PHIP = ZM[cond1], ZP[cond1], TT[cond1], BM[cond1], BP[cond1], PHIM[cond1], PHIP[cond1]\n",
    "    #print(TT.shape, PHIM.shape, PHIP.shape)\n",
    "    #cond2 = (ZM>=0)\n",
    "    #ZM, ZP, TT, BM, BP, PHIM, PHIP = ZM[cond2], ZP[cond2], TT[cond2], BM[cond2], BP[cond2], PHIM[cond2], PHIP[cond2]\n",
    "    #print(TT.shape, PHIM.shape, PHIP.shape)\n",
    "    #if BP[-1]:\n",
    "    #    print(\"BP[-1]: \",BP[-1]) \n",
    "    \n",
    "    if detector==1:\n",
    "        mylabel='Central Detector'\n",
    "    else:\n",
    "        mylabel='Surrounding Detectors'\n",
    "            \n",
    "    if plotme == 'x vs t':\n",
    "        plt.plot(TT[Z1n<=h*cos(theta)], Z1n[Z1n<=h*cos(theta)], c=color, ls='--')\n",
    "        plt.plot(TT[Z1n<=h*cos(theta)], Z2n[Z1n<=h*cos(theta)], c=color, ls='-' , label=r'Detector {}'.format(detector))\n",
    "        plt.axhline(zc_act, c='k', ls=':')\n",
    "        plt.ylim(0,h)\n",
    "        if L>1e-10:\n",
    "            plt.text(4, round(zc_act,2)+0.075, r'$z_c = {} \\; m$'.format(round(zc_act,2)), fontsize=16)\n",
    "        plt.xlabel(r'time $( t_{total} - t_{min} )$ (ns)', fontsize=18)\n",
    "        plt.ylabel(r'image height $z_{\\pm}$ (m)'         , fontsize=18).set_rotation(90)\n",
    "        plt.tick_params(axis='both', direction='in', labelsize=18)\n",
    "    \n",
    "\n",
    "\n",
    "        \n",
    "    elif plotme == 'b vs phi':\n",
    "        plt.plot(PHIM, BM, c=color, ls='-.')\n",
    "        plt.plot(PHIP, BP, c=color, ls='-' , label=mylabel)\n",
    "        plt.xlabel(r'angular locations $\\phi_{pm}\\;(in\\;degrees)$', fontsize=18)\n",
    "        plt.ylabel(r'brightness ($b/b_{entry}$) '       , fontsize=18).set_rotation(90)\n",
    "        plt.tick_params(axis='both', direction='in', labelsize=18)        \n",
    "        plt.yscale('log')\n",
    "        plt.xlim(0,91)\n",
    "        '''try:\n",
    "            phi_max = PHIP[argmax(Tn[ZM>0])]\n",
    "            plt.xlim(0,phi_max)\n",
    "        except:\n",
    "            plt.xlim(0,90)\n",
    "            pass\n",
    "    '''\n",
    "    \n",
    "    elif plotme == 'phi vs t':\n",
    "        if L!=0:\n",
    "            plt.plot(TT, PHIM, c=color, ls='-.')\n",
    "            plt.plot(TT, PHIP, c=color, ls='-' , label=mylabel)\n",
    "            plt.xlabel(r'time $( t_{total} - t_{min} )$ (ns)', fontsize=18)\n",
    "            plt.ylabel(r'angular locations $\\phi_{pm}\\;(in\\;degrees)$'       , fontsize=18).set_rotation(90)\n",
    "            plt.tick_params(axis='both', direction='in', labelsize=18)\n",
    "            plt.ylim(-0.1,90.01)\n",
    "            \n",
    "            try:\n",
    "                t_max = max(max(Tn[ZM>0]) , max(Tn[ZP<h*cos(theta)]))\n",
    "                plt.xlim(-0.1,t_max)\n",
    "            except:\n",
    "                plt.xlim(-0.1,30)\n",
    "                pass\n",
    "    \n",
    "    break\n",
    "plt.legend()\n",
    "plt.show()"
   ]
  },
  {
   "cell_type": "code",
   "execution_count": null,
   "metadata": {},
   "outputs": [],
   "source": [
    "BP"
   ]
  },
  {
   "cell_type": "code",
   "execution_count": null,
   "metadata": {},
   "outputs": [],
   "source": [
    "BM"
   ]
  },
  {
   "cell_type": "code",
   "execution_count": null,
   "metadata": {},
   "outputs": [],
   "source": [
    "plt.plot(BP)\n",
    "plt.yscale('log')"
   ]
  },
  {
   "cell_type": "code",
   "execution_count": null,
   "metadata": {},
   "outputs": [],
   "source": [
    "plt.figure(figsize=(12,9))\n",
    "n=50000\n",
    "plt.plot(ZM[:n],'r')\n",
    "plt.plot(ZP[:n],'b')\n",
    "plt.plot(T[:n]*1e+8,'k')\n",
    "plt.xlim(0,15000)\n",
    "plt.ylim(2,5)\n",
    "plt.legend()"
   ]
  },
  {
   "cell_type": "code",
   "execution_count": null,
   "metadata": {},
   "outputs": [],
   "source": [
    "import numpy as np\n",
    "args = np.argsort(T)\n",
    "T2   = T[args]\n",
    "ZM2  = ZM[args]\n",
    "ZP2  = ZP[args]\n",
    "plt.plot(T2,ZM2,'r')\n",
    "plt.plot(T2,ZP2,'b')"
   ]
  },
  {
   "cell_type": "code",
   "execution_count": null,
   "metadata": {},
   "outputs": [],
   "source": [
    "args = np.argsort(T)\n",
    "T2   = T[args]\n",
    "BM2  = BM[args]\n",
    "BP2  = BP[args]\n",
    "plt.plot(T2,BM2,'r')\n",
    "plt.plot(T2,BP2,'b')\n",
    "plt.yscale('log')"
   ]
  },
  {
   "cell_type": "code",
   "execution_count": null,
   "metadata": {},
   "outputs": [],
   "source": [
    "plt.plot(T,BM,'r')\n",
    "plt.plot(T,BP,'b')\n",
    "plt.yscale('log')"
   ]
  },
  {
   "cell_type": "code",
   "execution_count": null,
   "metadata": {},
   "outputs": [],
   "source": [
    "PHIM2 = PHIM[args]\n",
    "PHIP2 = PHIP[args]"
   ]
  },
  {
   "cell_type": "code",
   "execution_count": null,
   "metadata": {},
   "outputs": [],
   "source": [
    "#plt.figure(figsize=(10,8))\n",
    "plt.plot(PHIM2,BM,'r')\n",
    "plt.plot(PHIP2,BP,'b')\n",
    "plt.yscale('log')"
   ]
  },
  {
   "cell_type": "code",
   "execution_count": null,
   "metadata": {},
   "outputs": [],
   "source": [
    "plt.plot(PHIM,BM)\n",
    "plt.plot(PHIP,BP)\n",
    "plt.yscale('log')"
   ]
  },
  {
   "cell_type": "code",
   "execution_count": null,
   "metadata": {},
   "outputs": [],
   "source": [
    "plt.plot(T2,PHIM2)\n",
    "plt.plot(T2,PHIP2)\n",
    "plt.ylim(0,90)"
   ]
  },
  {
   "cell_type": "code",
   "execution_count": null,
   "metadata": {},
   "outputs": [],
   "source": [
    "phis = np.concatenate((PHIM,PHIP))\n",
    "bs   = np.concatenate((BM  ,  BP))"
   ]
  },
  {
   "cell_type": "code",
   "execution_count": null,
   "metadata": {},
   "outputs": [],
   "source": [
    "args2 = np.argsort(phis)\n",
    "phis2 = phis[args2]\n",
    "bs2   = bs  [args2]"
   ]
  },
  {
   "cell_type": "code",
   "execution_count": null,
   "metadata": {},
   "outputs": [],
   "source": [
    "plt.plot(phis2,bs2)\n",
    "plt.yscale('log')"
   ]
  },
  {
   "cell_type": "code",
   "execution_count": null,
   "metadata": {},
   "outputs": [],
   "source": [
    "max(BP), min(BP)"
   ]
  },
  {
   "cell_type": "code",
   "execution_count": null,
   "metadata": {},
   "outputs": [],
   "source": [
    "max(BM), min(BM)"
   ]
  },
  {
   "cell_type": "code",
   "execution_count": null,
   "metadata": {},
   "outputs": [],
   "source": [
    "max(phis2)"
   ]
  },
  {
   "cell_type": "code",
   "execution_count": null,
   "metadata": {},
   "outputs": [],
   "source": [
    "def entry_brightness(h,c,v,theta,L):\n",
    "    den      = (c**2-v**2)\n",
    "    z        = h/cos(theta)\n",
    "    k        = (sqrt( L**2 + z**2 - 2*z*L*cos(pi/2-theta)))\n",
    "    t_shower = 1e-10#2.3578794230541195e-8\n",
    "    t_light  = k/c\n",
    "    t_total  = t_shower + t_light\n",
    "    tt       = t_total\n",
    "    #print(\"Entry time:\", tt)\n",
    "    #num1_z   = -c**2*tt*v + c**2*h*sec(theta) - L*v**2*sin(theta)\n",
    "    num2_z   = sqrt(v**2* ( c*c*L*L - L*L*v*v + c*c*tt*tt*v*v - 2*c*c*h*tt*v*sec(theta) + c*c*h*h*sec(theta)**2 + 2*c*c*L*tt*v*sin(theta) + L*L*v*v*sin(theta)**2 - 2*c*c*h*L*tan(theta)))\n",
    "    #zp       = ((num1_z - num2_z) / den)\n",
    "    #zm       = ((num1_z + num2_z) / den)\n",
    "    v_A      = v*v*(tt*v-h*sec(theta)+L*sin(theta))\n",
    "    v_B      = num2_z\n",
    "    vp       = (c*c*v) * (1+(v_A/v_B)) / (-den)\n",
    "    vm       = (c*c*v) * (-1+(v_A/v_B)) / den        \n",
    "    kp       = sqrt( L**2 + zp**2 - 2*zp*L*cos(pi/2-theta))\n",
    "    km       = sqrt( L**2 + zm**2 - 2*zm*L*cos(pi/2-theta))\n",
    "    alphap   = (arccos( (zp*zp + kp*kp - L*L) / (2*zp*kp) ))\n",
    "    alpham   = (arccos( (zm*zm + km*km - L*L) / (2*zm*km) ))\n",
    "    vtp      = vp * sin(alphap)\n",
    "    vtm      = vm * sin(alpham)\n",
    "    omegap   = (vtp / kp)\n",
    "    omegam   = (vtm / km)\n",
    "    bp       = abs(omegap / (kp**2))\n",
    "    bm       = abs(omegam / (km**2))\n",
    "    return bm\n",
    "\n",
    "entry_brightness(h,c,v,theta,L=3.25)"
   ]
  },
  {
   "cell_type": "code",
   "execution_count": null,
   "metadata": {},
   "outputs": [],
   "source": [
    "    Tn  = T * 1e+9\n",
    "    TT  = (Tn-Tn.min())\n",
    "    \n",
    "    if 'b' in plotme:\n",
    "        if ptype==('y' or 'Y'):\n",
    "            print('Entry Brightness:', entry_bright)\n",
    "            BM = BM/entry_bright\n",
    "            BP = BP/entry_bright\n",
    "        else:\n",
    "            pass\n",
    "     \n",
    "    #if detector==2:\n",
    "    #cond1 = (ZP<=h*cos(theta))\n",
    "    #ZM, ZP, TT, BM, BP, PHIM, PHIP = ZM[cond1], ZP[cond1], TT[cond1], BM[cond1], BP[cond1], PHIM[cond1], PHIP[cond1]\n",
    "    #print(TT.shape, PHIM.shape, PHIP.shape)\n",
    "    #cond2 = (ZM>=0)\n",
    "    #ZM, ZP, TT, BM, BP, PHIM, PHIP = ZM[cond2], ZP[cond2], TT[cond2], BM[cond2], BP[cond2], PHIM[cond2], PHIP[cond2]\n",
    "    #print(TT.shape, PHIM.shape, PHIP.shape)\n",
    "    #if BP[-1]:\n",
    "    #    print(\"BP[-1]: \",BP[-1]) \n",
    "    \n",
    "    if detector==1:\n",
    "        mylabel=None#'Central Detector'\n",
    "    else:\n",
    "        mylabel='Surrounding Detectors'\n",
    "            \n",
    "    if plotme == 'x vs t':\n",
    "        plt.plot(TT[Z1n<=h*cos(theta)], Z1n[Z1n<=h*cos(theta)], c=color, ls='--')\n",
    "        plt.plot(TT[Z1n<=h*cos(theta)], Z2n[Z1n<=h*cos(theta)], c=color, ls='-' , label=r'Detector {}'.format(detector))\n",
    "        plt.axhline(zc_act, c='k', ls=':')\n",
    "        plt.ylim(0,h)\n",
    "        if L>1e-10:\n",
    "            plt.text(4, round(zc_act,2)+0.075, r'$z_c = {} \\; m$'.format(round(zc_act,2)), fontsize=16)\n",
    "        plt.xlabel(r'time $( t_{total} - t_{min} )$ (ns)', fontsize=18)\n",
    "        plt.ylabel(r'image height $z_{\\pm}$ (m)'         , fontsize=18).set_rotation(90)\n",
    "        plt.tick_params(axis='both', direction='in', labelsize=18)\n",
    "    \n",
    "    elif plotme == 'b vs t':\n",
    "        plt.plot(TT[condition], BM[condition], c=color, ls='--')\n",
    "        plt.plot(TT[condition], BP[condition], c=color, ls='-' , label=r'Detector {}'.format(detector))\n",
    "        plt.axhline(1, c='k', ls=':')\n",
    "        plt.xlabel(r'time $( t_{total} - t_{min} )$ (ns)', fontsize=18)\n",
    "        plt.ylabel(r'brightness ($b/b_{ground}$) '       , fontsize=18).set_rotation(90)\n",
    "        plt.tick_params(axis='both', direction='in', labelsize=18)        \n",
    "        plt.yscale('log')\n",
    "\n",
    "        \n",
    "    elif plotme == 'b vs phi':\n",
    "        plt.plot(PHIM, BM, c=color, ls='-.')\n",
    "        plt.plot(PHIP, BP, c=color, ls='-' , label=mylabel)\n",
    "        plt.xlabel(r'angular locations $\\phi_{pm}\\;(in\\;degrees)$', fontsize=18)\n",
    "        plt.ylabel(r'brightness ($b/b_{entry}$) '       , fontsize=18).set_rotation(90)\n",
    "        plt.tick_params(axis='both', direction='in', labelsize=18)        \n",
    "        plt.yscale('log')\n",
    "        try:\n",
    "            phi_max = PHIP[argmax(Tn[ZM>0])]\n",
    "            plt.xlim(0,phi_max)\n",
    "        except:\n",
    "            plt.xlim(0,90)\n",
    "            pass\n",
    "    \n",
    "    \n",
    "    elif plotme == 'phi vs t':\n",
    "        if L!=0:\n",
    "            plt.plot(TT, PHIM, c=color, ls='-.')\n",
    "            plt.plot(TT, PHIP, c=color, ls='-' , label=mylabel)\n",
    "            plt.xlabel(r'time $( t_{total} - t_{min} )$ (ns)', fontsize=18)\n",
    "            plt.ylabel(r'angular locations $\\phi_{pm}\\;(in\\;degrees)$'       , fontsize=18).set_rotation(90)\n",
    "            plt.tick_params(axis='both', direction='in', labelsize=18)\n",
    "            plt.ylim(-0.1,90.01)\n",
    "            try:\n",
    "                t_max = max(max(Tn[ZM>0]) , max(Tn[ZP<h*cos(theta)]))\n",
    "                plt.xlim(-0.1,t_max)\n",
    "            except:\n",
    "                plt.xlim(-0.1,30)\n",
    "                pass\n",
    "    break\n",
    "    \n",
    "plt.legend()\n",
    "#plt.show()"
   ]
  },
  {
   "cell_type": "code",
   "execution_count": null,
   "metadata": {},
   "outputs": [],
   "source": [
    "clevbp"
   ]
  },
  {
   "cell_type": "code",
   "execution_count": null,
   "metadata": {},
   "outputs": [],
   "source": [
    "clevbm"
   ]
  },
  {
   "cell_type": "code",
   "execution_count": null,
   "metadata": {},
   "outputs": [],
   "source": [
    "max(BM)"
   ]
  },
  {
   "cell_type": "code",
   "execution_count": null,
   "metadata": {},
   "outputs": [],
   "source": [
    "plt.plot(PHIM)"
   ]
  },
  {
   "cell_type": "code",
   "execution_count": null,
   "metadata": {},
   "outputs": [],
   "source": [
    "plt.plot(ZP,'b')\n",
    "plt.plot(ZM,'r')\n",
    "plt.plot(Tn,'k')\n",
    "#plt.xlim(0,15000)\n",
    "#plt.ylim(0,5)"
   ]
  },
  {
   "cell_type": "code",
   "execution_count": null,
   "metadata": {},
   "outputs": [],
   "source": [
    "max(ZP[ZP<h*cos(theta)])"
   ]
  },
  {
   "cell_type": "code",
   "execution_count": null,
   "metadata": {},
   "outputs": [],
   "source": [
    "BP[argmax(ZP[ZP<h*cos(theta)])]"
   ]
  },
  {
   "cell_type": "code",
   "execution_count": null,
   "metadata": {},
   "outputs": [],
   "source": [
    "argmax(ZP[ZP<h*cos(theta)])"
   ]
  },
  {
   "cell_type": "code",
   "execution_count": null,
   "metadata": {},
   "outputs": [],
   "source": [
    "ZP"
   ]
  },
  {
   "cell_type": "code",
   "execution_count": null,
   "metadata": {},
   "outputs": [],
   "source": [
    "BM[argmax(ZM[ZM>=0])]"
   ]
  },
  {
   "cell_type": "code",
   "execution_count": null,
   "metadata": {},
   "outputs": [],
   "source": [
    "max(BM[BM>=0])"
   ]
  },
  {
   "cell_type": "code",
   "execution_count": null,
   "metadata": {},
   "outputs": [],
   "source": [
    "import numpy as np\n",
    "a = np.array([1,1,1,1,1])\n",
    "b = np.array([1,-1,1,1,1])"
   ]
  },
  {
   "cell_type": "code",
   "execution_count": null,
   "metadata": {},
   "outputs": [],
   "source": [
    "suma = 0\n",
    "for i in a:\n",
    "    "
   ]
  }
 ],
 "metadata": {
  "kernelspec": {
   "display_name": "Python 3",
   "language": "python",
   "name": "python3"
  },
  "language_info": {
   "codemirror_mode": {
    "name": "ipython",
    "version": 3
   },
   "file_extension": ".py",
   "mimetype": "text/x-python",
   "name": "python",
   "nbconvert_exporter": "python",
   "pygments_lexer": "ipython3",
   "version": "3.7.4"
  }
 },
 "nbformat": 4,
 "nbformat_minor": 4
}
