{
 "cells": [
  {
   "cell_type": "code",
   "execution_count": 1,
   "metadata": {},
   "outputs": [],
   "source": [
    "import matplotlib.pyplot as plt\n",
    "from numpy import sin, cos, sqrt, pi, linspace, arange, deg2rad, rad2deg, array, arcsin, arccos,sort, argsort, argwhere, argmin, argmax, interp, concatenate, zeros\n",
    "from scipy.spatial import distance\n",
    "import warnings\n",
    "from mpl_toolkits import mplot3d\n",
    "from numpy import linalg as LA\n",
    "warnings.simplefilter('ignore')\n",
    "\n",
    "def sec(x):\n",
    "    return 1/cos(x)\n",
    "def tan(x):\n",
    "    return sin(x)/cos(x)"
   ]
  },
  {
   "cell_type": "code",
   "execution_count": 3,
   "metadata": {},
   "outputs": [
    {
     "name": "stdout",
     "output_type": "stream",
     "text": [
      "A :  [2.4 2.4 4.5]\n",
      "B :  [0.78701681 2.68441246 0.        ]\n",
      "Theta: 20.000000000000004\n"
     ]
    }
   ],
   "source": [
    "n      = 1.33 #-------------------------------------------- Refractive index of medium\n",
    "c      = 299792458/n #------------------------------------- Speed of light in medium\n",
    "R      = 7.3/2 #------------------------------------------- Radius of tank\n",
    "v      = n * c #------------------------------------------- Particle Speed\n",
    "h      = 4.5\n",
    "times  = linspace(1e-11,1e-7,100000)\n",
    "c1     = (0, 0, 0)  #------------------------------------ Central    PMT number 1 \n",
    "c2     = (1.85*cos(2*pi/3) , 1.85*sin(2*pi/3), 0) #------ Non-Radial PMT number 2\n",
    "c3     = (1.85*cos(4*pi/3) , 1.85*sin(4*pi/3), 0) #------ Non-Radial PMT number 3\n",
    "c4     = (1.85*cos(0     ) , 1.85*sin(0     ), 0) #------ Radial     PMT number 4\n",
    "\n",
    "x1,y1  = (2.4,2.4) #----------------------------------------- Coordinates of particle at top tanker lid      #------PARAM\n",
    "theta  = deg2rad(160)   #----------------------------------------- Zenith  varies from 90 to 180                    #------PARAM\n",
    "phi    = deg2rad(-10)   #----------------------------------------- Azimuth varies from  0 to 360                    #------PARAM\n",
    "x2     = x1 + h * tan(theta) * cos(phi) # ------------------- Calculate bottom x coordinate\n",
    "y2     = y1 + h * tan(theta) * sin(phi) #-------------------- Calculate bottom y coordinate\n",
    "\n",
    "A      = array([x1,y1,h]) #---------------- Entry Point of muon\n",
    "B      = array([x2,y2,0]) #---------------- Exit point of muon\n",
    "AB     = B-A #------------------------------------------------ Displacement vector of muon\n",
    "nAB    = LA.norm(AB) #---------------------------------------- Path length traveled by muon\n",
    "den    = c*c - v*v\n",
    "theta2 = pi - theta\n",
    "del theta\n",
    "theta     = theta2\n",
    "print('A : ', A) ; print('B : ', B) ;print('Theta:',rad2deg(theta))"
   ]
  },
  {
   "cell_type": "code",
   "execution_count": 6,
   "metadata": {},
   "outputs": [
    {
     "name": "stdout",
     "output_type": "stream",
     "text": [
      "19.99938146417172\n"
     ]
    }
   ],
   "source": [
    "A = array([2.4,2.4,4.5]) #----------------------------------------- Coordinates of particle at top tanker lid      #------PARAM\n",
    "B = array([0.787,2.684,0.0])\n",
    "Ba= array([2.4,2.4,0  ])\n",
    "theta = rad2deg(arccos(sum((A-B)*(A-Ba))/(LA.norm(A-B)*LA.norm(A-Ba))))\n",
    "print(theta)"
   ]
  },
  {
   "cell_type": "code",
   "execution_count": 7,
   "metadata": {},
   "outputs": [
    {
     "data": {
      "text/plain": [
       "4.499308461911519"
      ]
     },
     "execution_count": 7,
     "metadata": {},
     "output_type": "execute_result"
    }
   ],
   "source": [
    "250490/55673"
   ]
  },
  {
   "cell_type": "code",
   "execution_count": null,
   "metadata": {},
   "outputs": [],
   "source": []
  }
 ],
 "metadata": {
  "kernelspec": {
   "display_name": "Python 3",
   "language": "python",
   "name": "python3"
  },
  "language_info": {
   "codemirror_mode": {
    "name": "ipython",
    "version": 3
   },
   "file_extension": ".py",
   "mimetype": "text/x-python",
   "name": "python",
   "nbconvert_exporter": "python",
   "pygments_lexer": "ipython3",
   "version": "3.7.4"
  }
 },
 "nbformat": 4,
 "nbformat_minor": 4
}
