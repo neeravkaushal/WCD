{
 "cells": [
  {
   "cell_type": "markdown",
   "metadata": {},
   "source": [
    "## Import Libraries"
   ]
  },
  {
   "cell_type": "code",
   "execution_count": 1,
   "metadata": {},
   "outputs": [],
   "source": [
    "import matplotlib.pyplot as plt\n",
    "from numpy import sin, cos, sqrt, pi, linspace, arange, deg2rad\n",
    "from numpy import rad2deg, array, arcsin, arccos,sort, argsort, argwhere, argmin, argmax\n",
    "from numpy import interp, concatenate, zeros,logspace, isnan, full\n",
    "from scipy.spatial import distance\n",
    "import warnings\n",
    "from mpl_toolkits import mplot3d\n",
    "from numpy import linalg as LA\n",
    "warnings.simplefilter('ignore')\n",
    "\n",
    "def sec(x):\n",
    "    return 1/cos(x)\n",
    "def tan(x):\n",
    "    return sin(x)/cos(x)"
   ]
  },
  {
   "cell_type": "markdown",
   "metadata": {},
   "source": [
    "## Initialize Parameters "
   ]
  },
  {
   "cell_type": "code",
   "execution_count": 2,
   "metadata": {},
   "outputs": [
    {
     "name": "stdout",
     "output_type": "stream",
     "text": [
      "A :  [1.0e-03 0.0e+00 4.5e+00]\n",
      "B :  [ 1.00000000e-03 -9.61786516e-18  0.00000000e+00]\n",
      "Theta: 0.0\n",
      "(0, 0, 0) \n",
      " (-0.9249999999999996, 1.6021469970012117, 0) \n",
      " (-0.9250000000000008, -1.602146997001211, 0) \n",
      " (1.85, 0.0, 0)\n"
     ]
    },
    {
     "data": {
      "text/plain": [
       "(-4.014995393301708, 4.014999780633414, -4.014989580089784, 4.014998354750561)"
      ]
     },
     "execution_count": 2,
     "metadata": {},
     "output_type": "execute_result"
    },
    {
     "data": {
      "image/png": "[encoded data removed]",
      "text/plain": [
       "<Figure size 432x288 with 1 Axes>"
      ]
     },
     "metadata": {
      "needs_background": "light"
     },
     "output_type": "display_data"
    }
   ],
   "source": [
    "n      = 1.33 #-------------------------------------------- Refractive index of medium\n",
    "c      = 299792458/n #------------------------------------- Speed of light in medium\n",
    "R      = 7.3/2 #------------------------------------------- Radius of tank\n",
    "v      = n * c #------------------------------------------- Particle Speed\n",
    "h      = 4.5\n",
    "times  = linspace(1e-11,1e-7,100000)\n",
    "c1     = (0, 0, 0)  #------------------------------------ Central    PMT number 1 \n",
    "c2     = (1.85*cos(2*pi/3) , 1.85*sin(2*pi/3), 0) #------ Non-Radial PMT number 2\n",
    "c3     = (1.85*cos(4*pi/3) , 1.85*sin(4*pi/3), 0) #------ Non-Radial PMT number 3\n",
    "c4     = (1.85*cos(0     ) , 1.85*sin(0     ), 0) #------ Radial     PMT number 4\n",
    "\n",
    "x1,y1  = (0.001,0) #----------------------------------------- Coordinates of particle at top tanker lid      #------PARAM\n",
    "theta  = deg2rad(180)   #----------------------------------------- Zenith  varies from 90 to 180                    #------PARAM\n",
    "phi    = deg2rad(1)   #----------------------------------------- Azimuth varies from  0 to 360                    #------PARAM\n",
    "x2     = x1 + h * tan(theta) * cos(phi) # ------------------- Calculate bottom x coordinate\n",
    "y2     = y1 + h * tan(theta) * sin(phi) #-------------------- Calculate bottom y coordinate\n",
    "\n",
    "A      = array([x1,y1,h]) #---------------- Entry Point of muon\n",
    "B      = array([x2,y2,0]) #---------------- Exit point of muon\n",
    "AB     = B-A #------------------------------------------------ Displacement vector of muon\n",
    "nAB    = LA.norm(AB) #---------------------------------------- Path length traveled by muon\n",
    "den    = c*c - v*v\n",
    "theta2 = pi - theta\n",
    "del theta\n",
    "theta     = theta2\n",
    "print('A : ', A) ; print('B : ', B) ;print('Theta:',rad2deg(theta)); print(c1,'\\n',c2,'\\n',c3,'\\n',c4)\n",
    "angs   = linspace(0,6.28,1000)\n",
    "xs,ys  = R*cos(angs), R*sin(angs)\n",
    "#Plot cylinder transverse cross-section\n",
    "plt.plot(xs,ys)\n",
    "plt.scatter(A[0],A[1],c='r',s=100) ; plt.scatter(B[0],B[1],c='b',s=100);\n",
    "plt.scatter(c1[0],c1[1],c='k'); plt.scatter(c2[0],c2[1],c='k');\n",
    "plt.scatter(c3[0],c3[1],c='k'); plt.scatter(c4[0],c4[1],c='k')\n",
    "plt.axhline(0)\n",
    "plt.axvline(0)\n",
    "plt.axis('scaled')"
   ]
  },
  {
   "cell_type": "code",
   "execution_count": 3,
   "metadata": {},
   "outputs": [],
   "source": [
    "def entry_brightness(L,c,v,alpha,den):\n",
    "    tt     = L/c\n",
    "    aterm  = (c*c*tt*v-L*v*v*cos(alpha))\n",
    "    bterm  = (v*v*( -L*L*v*v + c*c*L*L + c*c*tt*tt*v*v - 2*c*c*L*tt*v*cos(alpha) + L*L*v*v*cos(alpha)**2))\n",
    "    xp     = (aterm + sqrt(bterm)) / den\n",
    "    zp     = (nAB-xp)*cos(theta)\n",
    "    cterm  = (c*c*v)\n",
    "    dterm  = (c*c*v*v*v*(tt*v-L*cos(alpha)))\n",
    "    vp     = (cterm + (dterm/sqrt(bterm))) / den\n",
    "    rp     = xp/nAB\n",
    "    Xp     = array([ (1-rp)*A[0] + rp*B[0] , (1-rp)*A[1] + rp*B[1] , (1-rp)*A[2]+rp*B[2]])\n",
    "    kp     = LA.norm(D-Xp) #sqrt( L*L + xp*xp - 2*L*xp*cos(alpha) )\n",
    "    betap  = alpha #arccos(sum((D-Xp)*(B-Xp))/(kp*LA.norm(B-Xp))) #pi - arccos( (xp*xp + kp*kp - L*L) / (2*xp*kp) )  \n",
    "    vtp    = vp*sin(betap)\n",
    "    omegap = vtp / kp\n",
    "    bp     = abs(omegap/(kp**2))\n",
    "    return bp\n",
    "\n",
    "def plus_t_vs_x (a, b, color, label):\n",
    "    plt.plot(a, b, c=color, ls='-' , lw=2.5, label=label)\n",
    "def minus_t_vs_x(a, b, color, label):\n",
    "    plt.plot(a, b, c=color, ls=(0,(5,5)), lw=2.5, label=label)\n",
    "def both_t_vs_x (a1, b1, a2, b2, color, label):\n",
    "    plt.plot(a1, b1, c=color, ls='-' , lw=2.5, label=label)\n",
    "    plt.plot(a2, b2, c=color, ls=(0,(5,5)), lw=2.5)\n",
    "    plt.xlabel(r'time since muon entry (in ns)',fontsize=18)\n",
    "    plt.ylabel(r'image height $z_{\\pm}$ from ground (in meters)', fontsize=18)\n",
    "    plt.axhline(zc, c='k', ls=':')\n",
    "    if detector!=1:\n",
    "        plt.text(19.5,zc+0.07, r'$z_C$ = {}'.format(round(zc,2)), fontsize=18)\n",
    "    #else:\n",
    "    #    plt.text(27,zc-0.22, r'$z_C$ = {}'.format(round(zc,2)), fontsize=18)\n",
    "    \n",
    "def plus_t_vs_b (a, b, color, label):\n",
    "    plt.plot(a, b, c=color, ls='-', lw=2.5, label=label)\n",
    "def minus_t_vs_b(a, b, color, label):\n",
    "    plt.plot(a, b, c=color, ls=(0,(5,3)), lw=2.5, label=label)\n",
    "def both_t_vs_b (a1, b1, a2, b2, color, label):\n",
    "    plt.plot(a1, b1, c=color, ls='-' , lw=2.5, label=label)\n",
    "    plt.plot(a2, b2, c=color, ls=(0,(5,3)), lw=2.5)\n",
    "    plt.axhline(1,c='k',ls=':')\n",
    "    plt.xlabel(r'time since muon entry (in ns)',fontsize=18)\n",
    "    plt.ylabel(r'relative brightness ($b/b_{entry}$)', fontsize=18) \n",
    "    plt.yscale('log')\n",
    "    plt.yticks(logspace(-1,10,12,base=10))\n",
    "    \n",
    "def plus_t_vs_ang(a, b, color, label):\n",
    "    plt.plot(a, b, c=color, ls='-', lw=2.5, label=label)\n",
    "def minus_t_vs_ang(a, b, color, label):\n",
    "    plt.plot(a, b, c=color, ls=(0,(5,4)), lw=2.5, label=label)\n",
    "def both_t_vs_ang(a1, b1, a2, b2, color, label):\n",
    "    plt.plot(a1, b1, c=color, ls='-' , lw=2.5, label=label)\n",
    "    plt.plot(a2, b2, c=color, ls=(0,(5,4)), lw=2.5)\n",
    "    plt.axhline(gammac, c='k', ls=':')\n",
    "    plt.xlabel(r'time since muon entry (in ns)',fontsize=18)\n",
    "    plt.ylabel(r'angular locations $\\phi_{\\pm}\\;(in\\;degrees)$',fontsize=18)\n",
    "    #if detector==4:\n",
    "    plt.text(26,gammac+1, r'$\\phi_C = %.2f ^{\\circ}$'%gammac, fontsize=18)\n",
    "    #else:#if detector==1:\n",
    "    #    plt.text(30,gammac+1, r'$\\phi_C = %.2f ^{\\circ}$'%gammac, fontsize=18)\n",
    "    \n",
    "def plus_b_vs_ang(a, b, color, label):\n",
    "    plt.plot(a, b, c=color, ls='-', lw=2.5, label=label)\n",
    "def minus_b_vs_ang(a, b, color, label):\n",
    "    plt.plot(a, b, c=color, ls=(0,(5,4)), lw=2.5, label=label)\n",
    "def both_b_vs_ang(a1, b1, a2, b2, color, label):\n",
    "    plt.plot(a1, b1, c=color, ls='-' , lw=2.5, label=label)\n",
    "    plt.plot(a2, b2, c=color, ls=(0,(5,4)), lw=2.5)\n",
    "    plt.axvline(gammac, c='k', ls=':')\n",
    "    plt.axhline(1,c='k',ls=':')\n",
    "    plt.xlabel(r'angular locations $\\phi_{\\pm}\\;(in\\;degrees)$',fontsize=18)\n",
    "    plt.ylabel(r'relative brightness ($b/b_{entry}$)', fontsize=18) \n",
    "    plt.yscale('log')\n",
    "    #if detector==1:\n",
    "    plt.text(gammac+0.5, 1000, r'$\\phi_C = %.2f ^{\\circ}$'%gammac, fontsize=18)\n",
    "    #elif detector==4:\n",
    "    #    plt.text(gammac+0.5, 0.03, r'$\\phi_C = %.2f ^{\\circ}$'%gammac, fontsize=18)\n",
    "    #elif detector==3:\n",
    "    #    plt.text(gammac+0.5, 0.01, r'$\\phi_C = %.2f ^{\\circ}$'%gammac, fontsize=18)"
   ]
  },
  {
   "cell_type": "code",
   "execution_count": 4,
   "metadata": {},
   "outputs": [
    {
     "name": "stdout",
     "output_type": "stream",
     "text": [
      "Using matplotlib backend: Qt5Agg\n",
      "==============================================\n",
      "Detector  1\n",
      "ZC:  0.001  m\n",
      "Both images moving\n",
      "Plotted\n",
      "==============================================\n",
      "Detector  2\n",
      "ZC:  2.11  m\n",
      "Both images moving\n",
      "Plotted\n"
     ]
    }
   ],
   "source": [
    "%matplotlib\n",
    "plt.figure()\n",
    "\n",
    "plotme    = 't vs b'\n",
    "#plotme    = 't vs x'\n",
    "#plotme    = 't vs ang'\n",
    "#plotme    = 'b vs ang'\n",
    "\n",
    "detector_coordinates = [c1,c2]\n",
    "colors               = ['k','r']\n",
    "detectors            = [1,2]\n",
    "labels               = ['Central Detector', 'Surrounding Detectors']\n",
    "\n",
    "for D, color, detector, mylabel in zip(detector_coordinates, colors, detectors, labels):\n",
    "\n",
    "    print(\"==============================================\")\n",
    "    print(\"Detector \", detector)\n",
    "    \n",
    "    AD    = D - A\n",
    "    BD    = D - B\n",
    "    L     = LA.norm(AD)\n",
    "    alpha = arccos((sum(AD*AB))/(L*nAB)) # OR use alpha1 = arccos( (L*L+x*x-k*k)/(2*x*L) )\n",
    "    xc    = L*cos(alpha) - (c*L*sin(alpha))/sqrt(-den)\n",
    "    zc    = (nAB-xc)*cos(theta)\n",
    "    print('ZC: ',round(zc,3), \" m\")\n",
    "\n",
    "    T,XP,XM,ZP,ZM,BP,BM,GAMMAP,GAMMAM = [],[],[],[],[],[],[],[],[]\n",
    "    \n",
    "    for iii,t in enumerate(times):\n",
    "\n",
    "        x      = v*t\n",
    "        ratio  = x/nAB\n",
    "        X      = array([ (1-ratio)*A[0] + ratio*B[0] , (1-ratio)*A[1] + ratio*B[1] , (1-ratio)*A[2]+ratio*B[2]   ])\n",
    "        AX,DX  = X - A, X-D\n",
    "        k      = LA.norm(DX)\n",
    "        t1,t2  = t, k/c\n",
    "        tt     = t1 + t2\n",
    "        \n",
    "        aterm  = (c*c*tt*v-L*v*v*cos(alpha))\n",
    "        bterm  = (v*v*( -L*L*v*v + c*c*L*L + c*c*tt*tt*v*v - 2*c*c*L*tt*v*cos(alpha) + L*L*v*v*cos(alpha)**2))\n",
    "        xp     = (aterm + sqrt(bterm)) / den\n",
    "        xm     = (aterm - sqrt(bterm)) / den\n",
    "        zp     = (nAB-xp)*cos(theta)\n",
    "        zm     = (nAB-xm)*cos(theta)\n",
    "        \n",
    "        cterm  = (c*c*v)\n",
    "        dterm  = (c*c*v*v*v*(tt*v-L*cos(alpha)))\n",
    "        vp     = (cterm + (dterm/sqrt(bterm))) / den\n",
    "        vm     = (cterm - (dterm/sqrt(bterm))) / den \n",
    "        \n",
    "        rp     = xp/nAB\n",
    "        rm     = xm/nAB\n",
    "        Xp     = array([ (1-rp)*A[0] + rp*B[0] , (1-rp)*A[1] + rp*B[1] , (1-rp)*A[2]+rp*B[2]])\n",
    "        Xm     = array([ (1-rm)*A[0] + rm*B[0] , (1-rm)*A[1] + rm*B[1] , (1-rm)*A[2]+rm*B[2]])\n",
    "        \n",
    "        kp     = LA.norm(D-Xp) #sqrt( L*L + xp*xp - 2*L*xp*cos(alpha) )\n",
    "        km     = LA.norm(D-Xm) #sqrt( L*L + xm*xm - 2*L*xm*cos(alpha) )\n",
    "        \n",
    "        betap  = arccos(sum((D-Xp)*(B-Xp))/(kp*LA.norm(B-Xp))) #pi - arccos( (xp*xp + kp*kp - L*L) / (2*xp*kp) )  \n",
    "        betam  = arccos(sum((D-Xm)*(B-Xm))/(km*LA.norm(B-Xm))) #pi - arccos( (xm*xm + km*km - L*L) / (2*xm*km) )  \n",
    "        \n",
    "        vtp    = vp*sin(betap)\n",
    "        vtm    = vm *sin(betam )\n",
    "        omegap = vtp / kp\n",
    "        omegam = vtm / km\n",
    "        bp     = abs(omegap/(kp**2))\n",
    "        bm     = abs(omegam/(km**2))\n",
    "        \n",
    "        gammap  = arccos(sum((D-Xp)*BD)/(kp*LA.norm(BD))) #arccos( (L*L + kp*kp - xp*xp ) / (2*L*kp) )\n",
    "        gammam  = arccos(sum((D-Xm)*BD)/(km*LA.norm(BD))) #arccos( (L*L + km*km - xm*xm ) / (2*L*km) )\n",
    "        \n",
    "        #if (iii%10000==0):\n",
    "        #    print(xp,xm,vp,vm,betap,betam,bp,bm)\n",
    "        XP.append(xp); XM.append(xm); BP.append(bp); BM.append(bm); GAMMAP.append(rad2deg(gammap)); GAMMAM.append(rad2deg(gammam)); T.append(tt); ZP.append(zp); ZM.append(zm)\n",
    "\n",
    "    XP, XM, BP, BM, T, GAMMAP, GAMMAM, ZP, ZM = array(XP), array(XM), array(BP), array(BM), array(T), array(GAMMAP), array(GAMMAM), array(ZP), array(ZM)\n",
    "    #hh = BP[0] #Or use this in place of den_bright\n",
    "    TT  = T * 1e+9\n",
    "    #print(BP,BM)\n",
    "    \n",
    "    rc     = xc/nAB\n",
    "    Xc     = array([ (1-rc)*A[0] + rc*B[0] , (1-rc)*A[1] + rc*B[1] , (1-rc)*A[2]+rc*B[2]])\n",
    "    kc     = LA.norm(D-Xc) #sqrt( L*L + xc*xc - 2*L*xc*cos(alpha) )\n",
    "    gammac = rad2deg( arccos(sum((D-Xc)*BD)/(kc*LA.norm(BD))) )\n",
    "\n",
    "    cond  = ( ((ZP>=0) & (ZP<=h)) | ((ZM>=0) & (ZM<=h)) )\n",
    "    TT    = TT[cond] ; BP = BP[cond] ; BM = BM[cond] ; ZP = ZP[cond]\n",
    "    ZM    = ZM[cond] ; GAMMAP = GAMMAP[cond] ; GAMMAM = GAMMAM[cond]\n",
    "    #print(BP,BM)\n",
    "    conp     = [(ZP>=0) & (ZP<=h)]\n",
    "    conm     = [(ZM>=0) & (ZM<=h)]\n",
    "    pluslen  = len (ZP[conp])\n",
    "    minuslen = len (ZM[conm])\n",
    "    \n",
    "    if detector==1:\n",
    "        Bnorm = entry_brightness(L,c,v,alpha,den) # OR hh\n",
    "        #break\n",
    "        #continue # Use if plotting b vs phi\n",
    "    #break\n",
    "    #print(Bnorm)\n",
    "    #Bnorm = 2215.4232387\n",
    "    if pluslen == 0:\n",
    "        if minuslen == 0:\n",
    "            print(\"Images outside tank. Skipping...\")\n",
    "        else:\n",
    "            print('One image moving towards bottom B.')\n",
    "            TT,ZM,BM,GAMMAM = TT[conm], ZM[conm], BM[conm]/Bnorm, GAMMAM[conm]\n",
    "            \n",
    "            if   plotme=='t vs b'  :minus_t_vs_b  (a=TT, b=BM    , color=color, label=mylabel)\n",
    "            elif plotme=='t vs x'  :minus_t_vs_x  (a=TT, b=ZM    , color=color, label=mylabel)\n",
    "            elif plotme=='t vs ang':minus_t_vs_ang(a=TT, b=GAMMAM, color=color, label=mylabel)\n",
    "            elif plotme=='b vs ang':minus_b_vs_ang(a=GAMMAM, b=BM, color=color, label=mylabel)\n",
    "    \n",
    "    elif pluslen != 0:\n",
    "        if minuslen == 0:\n",
    "            print('One image moving towards entry A.')\n",
    "            TT,ZP,BP,GAMMAP = TT[conp], ZP[conp], BP[conp]/Bnorm, GAMMAP[conp]\n",
    "                    \n",
    "            if   plotme=='t vs b'  :plus_t_vs_b  (a=TT, b=BP    , color=color, label=mylabel)\n",
    "            elif plotme=='t vs x'  :plus_t_vs_x  (a=TT, b=ZP    , color=color, label=mylabel)\n",
    "            elif plotme=='t vs ang':plus_t_vs_ang(a=TT, b=GAMMAP, color=color, label=mylabel)\n",
    "            elif plotme=='b vs ang':plus_b_vs_ang(a=GAMMAP, b=BP, color=color, label=mylabel)\n",
    "        else:\n",
    "            print('Both images moving')\n",
    "            TTm, ZM, BM, GAMMAM = TT[conm], ZM[conm], BM[conm]/Bnorm, GAMMAM[conm]\n",
    "            TTp, ZP, BP, GAMMAP = TT[conp], ZP[conp], BP[conp]/Bnorm, GAMMAP[conp]\n",
    "            #print(BP, BM)\n",
    "            if   plotme=='t vs b'  :both_t_vs_b  (a1=TTp, b1=BP    , a2=TTm, b2=BM    , color=color, label=mylabel)\n",
    "            elif plotme=='t vs x'  :both_t_vs_x  (a1=TTp, b1=ZP    , a2=TTm, b2=ZM    , color=color, label=mylabel)\n",
    "            elif plotme=='t vs ang':both_t_vs_ang(a1=TTp, b1=GAMMAP, a2=TTm, b2=GAMMAM, color=color, label=mylabel)\n",
    "            elif plotme=='b vs ang':both_b_vs_ang(a1=GAMMAP, b1=BP, a2=GAMMAM, b2=BM,   color=color, label=mylabel)\n",
    "    print('Plotted')\n",
    "#plt.axvline(tmin, c='k',lw=2.5, label='Central Detector')\n",
    "#plt.axvline(90, c='k',lw=2.5, label='Central Detector')\n",
    "#plt.axhline()\n",
    "plt.tick_params(axis='both', direction='in', labelsize=18, which='both')\n",
    "#plt.xticks(arange(0,100,10))\n",
    "#plt.xticks(arange(14,24.1,1))\n",
    "#plt.text(19.3,gammac+0.5, r'$\\phi_C = %.2f ^{\\circ}$'%gammac, fontsize=18)\n",
    "plt.legend(prop={'size': 14}) #loc='upper right', \n",
    "#plt.ylim(0,4064)\n",
    "\n",
    "plt.show()"
   ]
  },
  {
   "cell_type": "code",
   "execution_count": 5,
   "metadata": {},
   "outputs": [],
   "source": [
    "#Get Bnorm for x=0.001\n",
    "#Get tmin for x=0.0\n",
    "#use Bnorm and tmin to normalize brightness for surrounding detectors and plotting a vertical line at tmin respectively.."
   ]
  },
  {
   "cell_type": "code",
   "execution_count": 6,
   "metadata": {},
   "outputs": [
    {
     "data": {
      "text/plain": [
       "(20.421489221023585, 21.584787179910087, 23.216994516968892)"
      ]
     },
     "execution_count": 6,
     "metadata": {},
     "output_type": "execute_result"
    }
   ],
   "source": [
    "min(TT), max(TTp), max(TTm)"
   ]
  },
  {
   "cell_type": "code",
   "execution_count": 7,
   "metadata": {},
   "outputs": [
    {
     "data": {
      "text/plain": [
       "225407863.15789473"
      ]
     },
     "execution_count": 7,
     "metadata": {},
     "output_type": "execute_result"
    }
   ],
   "source": [
    "c\n",
    "#plt.legend()"
   ]
  },
  {
   "cell_type": "code",
   "execution_count": 8,
   "metadata": {},
   "outputs": [],
   "source": [
    "tmin = min(TTp)"
   ]
  },
  {
   "cell_type": "code",
   "execution_count": 9,
   "metadata": {},
   "outputs": [
    {
     "data": {
      "text/plain": [
       "20.421489221023585"
      ]
     },
     "execution_count": 9,
     "metadata": {},
     "output_type": "execute_result"
    }
   ],
   "source": [
    "min(TTm)"
   ]
  },
  {
   "cell_type": "code",
   "execution_count": 10,
   "metadata": {},
   "outputs": [
    {
     "data": {
      "text/plain": [
       "20.421489221023585"
      ]
     },
     "execution_count": 10,
     "metadata": {},
     "output_type": "execute_result"
    }
   ],
   "source": [
    "tmin"
   ]
  },
  {
   "cell_type": "code",
   "execution_count": 5,
   "metadata": {},
   "outputs": [
    {
     "data": {
      "text/plain": [
       "2215.4232387462557"
      ]
     },
     "execution_count": 5,
     "metadata": {},
     "output_type": "execute_result"
    }
   ],
   "source": [
    "Bnorm"
   ]
  },
  {
   "cell_type": "code",
   "execution_count": null,
   "metadata": {},
   "outputs": [],
   "source": []
  }
 ],
 "metadata": {
  "kernelspec": {
   "display_name": "Python 3",
   "language": "python",
   "name": "python3"
  },
  "language_info": {
   "codemirror_mode": {
    "name": "ipython",
    "version": 3
   },
   "file_extension": ".py",
   "mimetype": "text/x-python",
   "name": "python",
   "nbconvert_exporter": "python",
   "pygments_lexer": "ipython3",
   "version": "3.8.2"
  }
 },
 "nbformat": 4,
 "nbformat_minor": 4
}
